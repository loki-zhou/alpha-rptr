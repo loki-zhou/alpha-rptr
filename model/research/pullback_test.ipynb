{
 "cells": [
  {
   "cell_type": "code",
   "execution_count": 1,
   "metadata": {
    "collapsed": true
   },
   "outputs": [],
   "source": [
    "import pandas as pd"
   ]
  },
  {
   "cell_type": "code",
   "execution_count": 2,
   "outputs": [],
   "source": [
    "df = pd.read_csv(r\"D:\\rl\\alpha-rptr\\ohlc\\binance_futures\\BTCUSDT\\['15m']\\data.csv\", parse_dates=[\"time\"], index_col=\"time\")\n",
    "df = df.tz_localize(None)\n",
    "df = df.rename(columns={\"time\": \"date\"})"
   ],
   "metadata": {
    "collapsed": false
   }
  },
  {
   "cell_type": "code",
   "execution_count": 3,
   "outputs": [],
   "source": [
    "from custom_indicators import pullback"
   ],
   "metadata": {
    "collapsed": false
   }
  },
  {
   "cell_type": "code",
   "execution_count": 4,
   "outputs": [
    {
     "data": {
      "text/plain": "                        open     high      low    close     volume   \ntime                                                                 \n2023-04-13 04:15:00  30057.2  30070.0  30029.6  30060.8   1563.938  \\\n2023-04-13 04:30:00  30060.8  30089.5  30047.2  30077.4   1294.678   \n2023-04-13 04:45:00  30077.0  30097.0  30033.5  30045.9   1933.793   \n2023-04-13 05:00:00  30046.0  30065.7  30031.5  30038.7   1055.751   \n2023-04-13 05:15:00  30038.7  30067.0  30025.4  30025.5   1019.455   \n...                      ...      ...      ...      ...        ...   \n2023-05-24 07:00:00  26734.2  26734.2  26566.5  26699.9  10417.356   \n2023-05-24 07:15:00  26700.0  26749.5  26673.3  26747.9   6405.009   \n2023-05-24 07:30:00  26748.0  26748.0  26669.0  26699.5   3939.648   \n2023-05-24 07:45:00  26699.4  26706.8  26650.5  26689.9   3817.344   \n2023-05-24 08:00:00  26690.0  26691.1  26672.0  26674.9    693.857   \n\n                     feature_pb_stdev_outlier  feature_pb_pct_change   \ntime                                                                   \n2023-04-13 04:15:00                       NaN                    NaN  \\\n2023-04-13 04:30:00                       NaN               0.000552   \n2023-04-13 04:45:00                       NaN              -0.001047   \n2023-04-13 05:00:00                       NaN              -0.000240   \n2023-04-13 05:15:00                       NaN              -0.000439   \n...                                       ...                    ...   \n2023-05-24 07:00:00                 -0.606057              -0.001283   \n2023-05-24 07:15:00                  0.852705               0.001798   \n2023-05-24 07:30:00                 -0.852295              -0.001809   \n2023-05-24 07:45:00                 -0.166977              -0.000360   \n2023-05-24 08:00:00                 -0.261091              -0.000562   \n\n                     feature_pb_pct_outlier  feature_pb_candle_body  \ntime                                                                 \n2023-04-13 04:15:00                     NaN                0.011977  \n2023-04-13 04:30:00                     NaN                0.055221  \n2023-04-13 04:45:00                     NaN               -0.103401  \n2023-04-13 05:00:00                     NaN               -0.024296  \n2023-04-13 05:15:00                     NaN               -0.043943  \n...                                     ...                     ...  \n2023-05-24 07:00:00               -0.313836               -0.128300  \n2023-05-24 07:15:00                1.170799                0.179401  \n2023-05-24 07:30:00               -0.580400               -0.181322  \n2023-05-24 07:45:00                0.129175               -0.035581  \n2023-05-24 08:00:00                0.047633               -0.056575  \n\n[3952 rows x 9 columns]",
      "text/html": "<div>\n<style scoped>\n    .dataframe tbody tr th:only-of-type {\n        vertical-align: middle;\n    }\n\n    .dataframe tbody tr th {\n        vertical-align: top;\n    }\n\n    .dataframe thead th {\n        text-align: right;\n    }\n</style>\n<table border=\"1\" class=\"dataframe\">\n  <thead>\n    <tr style=\"text-align: right;\">\n      <th></th>\n      <th>open</th>\n      <th>high</th>\n      <th>low</th>\n      <th>close</th>\n      <th>volume</th>\n      <th>feature_pb_stdev_outlier</th>\n      <th>feature_pb_pct_change</th>\n      <th>feature_pb_pct_outlier</th>\n      <th>feature_pb_candle_body</th>\n    </tr>\n    <tr>\n      <th>time</th>\n      <th></th>\n      <th></th>\n      <th></th>\n      <th></th>\n      <th></th>\n      <th></th>\n      <th></th>\n      <th></th>\n      <th></th>\n    </tr>\n  </thead>\n  <tbody>\n    <tr>\n      <th>2023-04-13 04:15:00</th>\n      <td>30057.2</td>\n      <td>30070.0</td>\n      <td>30029.6</td>\n      <td>30060.8</td>\n      <td>1563.938</td>\n      <td>NaN</td>\n      <td>NaN</td>\n      <td>NaN</td>\n      <td>0.011977</td>\n    </tr>\n    <tr>\n      <th>2023-04-13 04:30:00</th>\n      <td>30060.8</td>\n      <td>30089.5</td>\n      <td>30047.2</td>\n      <td>30077.4</td>\n      <td>1294.678</td>\n      <td>NaN</td>\n      <td>0.000552</td>\n      <td>NaN</td>\n      <td>0.055221</td>\n    </tr>\n    <tr>\n      <th>2023-04-13 04:45:00</th>\n      <td>30077.0</td>\n      <td>30097.0</td>\n      <td>30033.5</td>\n      <td>30045.9</td>\n      <td>1933.793</td>\n      <td>NaN</td>\n      <td>-0.001047</td>\n      <td>NaN</td>\n      <td>-0.103401</td>\n    </tr>\n    <tr>\n      <th>2023-04-13 05:00:00</th>\n      <td>30046.0</td>\n      <td>30065.7</td>\n      <td>30031.5</td>\n      <td>30038.7</td>\n      <td>1055.751</td>\n      <td>NaN</td>\n      <td>-0.000240</td>\n      <td>NaN</td>\n      <td>-0.024296</td>\n    </tr>\n    <tr>\n      <th>2023-04-13 05:15:00</th>\n      <td>30038.7</td>\n      <td>30067.0</td>\n      <td>30025.4</td>\n      <td>30025.5</td>\n      <td>1019.455</td>\n      <td>NaN</td>\n      <td>-0.000439</td>\n      <td>NaN</td>\n      <td>-0.043943</td>\n    </tr>\n    <tr>\n      <th>...</th>\n      <td>...</td>\n      <td>...</td>\n      <td>...</td>\n      <td>...</td>\n      <td>...</td>\n      <td>...</td>\n      <td>...</td>\n      <td>...</td>\n      <td>...</td>\n    </tr>\n    <tr>\n      <th>2023-05-24 07:00:00</th>\n      <td>26734.2</td>\n      <td>26734.2</td>\n      <td>26566.5</td>\n      <td>26699.9</td>\n      <td>10417.356</td>\n      <td>-0.606057</td>\n      <td>-0.001283</td>\n      <td>-0.313836</td>\n      <td>-0.128300</td>\n    </tr>\n    <tr>\n      <th>2023-05-24 07:15:00</th>\n      <td>26700.0</td>\n      <td>26749.5</td>\n      <td>26673.3</td>\n      <td>26747.9</td>\n      <td>6405.009</td>\n      <td>0.852705</td>\n      <td>0.001798</td>\n      <td>1.170799</td>\n      <td>0.179401</td>\n    </tr>\n    <tr>\n      <th>2023-05-24 07:30:00</th>\n      <td>26748.0</td>\n      <td>26748.0</td>\n      <td>26669.0</td>\n      <td>26699.5</td>\n      <td>3939.648</td>\n      <td>-0.852295</td>\n      <td>-0.001809</td>\n      <td>-0.580400</td>\n      <td>-0.181322</td>\n    </tr>\n    <tr>\n      <th>2023-05-24 07:45:00</th>\n      <td>26699.4</td>\n      <td>26706.8</td>\n      <td>26650.5</td>\n      <td>26689.9</td>\n      <td>3817.344</td>\n      <td>-0.166977</td>\n      <td>-0.000360</td>\n      <td>0.129175</td>\n      <td>-0.035581</td>\n    </tr>\n    <tr>\n      <th>2023-05-24 08:00:00</th>\n      <td>26690.0</td>\n      <td>26691.1</td>\n      <td>26672.0</td>\n      <td>26674.9</td>\n      <td>693.857</td>\n      <td>-0.261091</td>\n      <td>-0.000562</td>\n      <td>0.047633</td>\n      <td>-0.056575</td>\n    </tr>\n  </tbody>\n</table>\n<p>3952 rows × 9 columns</p>\n</div>"
     },
     "execution_count": 4,
     "metadata": {},
     "output_type": "execute_result"
    }
   ],
   "source": [
    "df = pullback.detect_pullback(df)\n",
    "df"
   ],
   "metadata": {
    "collapsed": false
   }
  },
  {
   "cell_type": "code",
   "execution_count": null,
   "outputs": [],
   "source": [],
   "metadata": {
    "collapsed": false
   }
  }
 ],
 "metadata": {
  "kernelspec": {
   "display_name": "Python 3",
   "language": "python",
   "name": "python3"
  },
  "language_info": {
   "codemirror_mode": {
    "name": "ipython",
    "version": 2
   },
   "file_extension": ".py",
   "mimetype": "text/x-python",
   "name": "python",
   "nbconvert_exporter": "python",
   "pygments_lexer": "ipython2",
   "version": "2.7.6"
  }
 },
 "nbformat": 4,
 "nbformat_minor": 0
}
