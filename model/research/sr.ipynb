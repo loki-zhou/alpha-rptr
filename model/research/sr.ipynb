{
 "cells": [
  {
   "cell_type": "code",
   "execution_count": 41,
   "metadata": {
    "collapsed": true
   },
   "outputs": [],
   "source": [
    "import pandas as pd"
   ]
  },
  {
   "cell_type": "code",
   "execution_count": 42,
   "outputs": [],
   "source": [
    "df = pd.DataFrame({\n",
    "    \"time\": [\"a\", \"b\", \"c\", \"d\", \"e\", \"f\"],\n",
    "    \"close\": [1, 2, 3, 4, 5, 6]\n",
    "})\n",
    "df.set_index('time', inplace=True)\n"
   ],
   "metadata": {
    "collapsed": false
   }
  },
  {
   "cell_type": "code",
   "execution_count": 43,
   "outputs": [],
   "source": [
    "d = df.close.diff()"
   ],
   "metadata": {
    "collapsed": false
   }
  },
  {
   "cell_type": "code",
   "execution_count": 45,
   "outputs": [],
   "source": [
    "pl = df.close"
   ],
   "metadata": {
    "collapsed": false
   }
  },
  {
   "cell_type": "code",
   "execution_count": 49,
   "outputs": [],
   "source": [
    "p = pl.diff().where(pl.diff().notna())"
   ],
   "metadata": {
    "collapsed": false
   }
  },
  {
   "cell_type": "code",
   "execution_count": 48,
   "outputs": [
    {
     "data": {
      "text/plain": "time\na    False\nb     True\nc     True\nd     True\ne     True\nf     True\nName: close, dtype: bool"
     },
     "execution_count": 48,
     "metadata": {},
     "output_type": "execute_result"
    }
   ],
   "source": [
    "pl.diff().notna()"
   ],
   "metadata": {
    "collapsed": false
   }
  },
  {
   "cell_type": "code",
   "execution_count": 50,
   "outputs": [
    {
     "data": {
      "text/plain": "time\na    NaN\nb    1.0\nc    1.0\nd    1.0\ne    1.0\nf    1.0\nName: close, dtype: float64"
     },
     "execution_count": 50,
     "metadata": {},
     "output_type": "execute_result"
    }
   ],
   "source": [
    "p"
   ],
   "metadata": {
    "collapsed": false
   }
  },
  {
   "cell_type": "code",
   "execution_count": 10,
   "outputs": [
    {
     "data": {
      "text/plain": "3"
     },
     "execution_count": 10,
     "metadata": {},
     "output_type": "execute_result"
    }
   ],
   "source": [
    "df.close[2]"
   ],
   "metadata": {
    "collapsed": false
   }
  },
  {
   "cell_type": "code",
   "execution_count": 11,
   "outputs": [],
   "source": [
    "def test_data():\n",
    "    df = pd.read_csv(r\"D:\\rl\\alpha-rptr\\ohlc\\binance_futures\\BTCUSDT\\['15m']\\data.csv\", parse_dates=[\"time\"], index_col=\"time\")\n",
    "    df=df.tz_localize(None)\n",
    "    df = df.rename(columns={\"time\": \"date\"})\n",
    "    return df\n",
    "\n",
    "df = test_data()"
   ],
   "metadata": {
    "collapsed": false
   }
  },
  {
   "cell_type": "code",
   "execution_count": 12,
   "outputs": [
    {
     "data": {
      "text/plain": "                        open     high      low    close     volume\ntime                                                              \n2023-04-13 04:15:00  30057.2  30070.0  30029.6  30060.8   1563.938\n2023-04-13 04:30:00  30060.8  30089.5  30047.2  30077.4   1294.678\n2023-04-13 04:45:00  30077.0  30097.0  30033.5  30045.9   1933.793\n2023-04-13 05:00:00  30046.0  30065.7  30031.5  30038.7   1055.751\n2023-04-13 05:15:00  30038.7  30067.0  30025.4  30025.5   1019.455\n...                      ...      ...      ...      ...        ...\n2023-05-24 07:00:00  26734.2  26734.2  26566.5  26699.9  10417.356\n2023-05-24 07:15:00  26700.0  26749.5  26673.3  26747.9   6405.009\n2023-05-24 07:30:00  26748.0  26748.0  26669.0  26699.5   3939.648\n2023-05-24 07:45:00  26699.4  26706.8  26650.5  26689.9   3817.344\n2023-05-24 08:00:00  26690.0  26691.1  26672.0  26674.9    693.857\n\n[3952 rows x 5 columns]",
      "text/html": "<div>\n<style scoped>\n    .dataframe tbody tr th:only-of-type {\n        vertical-align: middle;\n    }\n\n    .dataframe tbody tr th {\n        vertical-align: top;\n    }\n\n    .dataframe thead th {\n        text-align: right;\n    }\n</style>\n<table border=\"1\" class=\"dataframe\">\n  <thead>\n    <tr style=\"text-align: right;\">\n      <th></th>\n      <th>open</th>\n      <th>high</th>\n      <th>low</th>\n      <th>close</th>\n      <th>volume</th>\n    </tr>\n    <tr>\n      <th>time</th>\n      <th></th>\n      <th></th>\n      <th></th>\n      <th></th>\n      <th></th>\n    </tr>\n  </thead>\n  <tbody>\n    <tr>\n      <th>2023-04-13 04:15:00</th>\n      <td>30057.2</td>\n      <td>30070.0</td>\n      <td>30029.6</td>\n      <td>30060.8</td>\n      <td>1563.938</td>\n    </tr>\n    <tr>\n      <th>2023-04-13 04:30:00</th>\n      <td>30060.8</td>\n      <td>30089.5</td>\n      <td>30047.2</td>\n      <td>30077.4</td>\n      <td>1294.678</td>\n    </tr>\n    <tr>\n      <th>2023-04-13 04:45:00</th>\n      <td>30077.0</td>\n      <td>30097.0</td>\n      <td>30033.5</td>\n      <td>30045.9</td>\n      <td>1933.793</td>\n    </tr>\n    <tr>\n      <th>2023-04-13 05:00:00</th>\n      <td>30046.0</td>\n      <td>30065.7</td>\n      <td>30031.5</td>\n      <td>30038.7</td>\n      <td>1055.751</td>\n    </tr>\n    <tr>\n      <th>2023-04-13 05:15:00</th>\n      <td>30038.7</td>\n      <td>30067.0</td>\n      <td>30025.4</td>\n      <td>30025.5</td>\n      <td>1019.455</td>\n    </tr>\n    <tr>\n      <th>...</th>\n      <td>...</td>\n      <td>...</td>\n      <td>...</td>\n      <td>...</td>\n      <td>...</td>\n    </tr>\n    <tr>\n      <th>2023-05-24 07:00:00</th>\n      <td>26734.2</td>\n      <td>26734.2</td>\n      <td>26566.5</td>\n      <td>26699.9</td>\n      <td>10417.356</td>\n    </tr>\n    <tr>\n      <th>2023-05-24 07:15:00</th>\n      <td>26700.0</td>\n      <td>26749.5</td>\n      <td>26673.3</td>\n      <td>26747.9</td>\n      <td>6405.009</td>\n    </tr>\n    <tr>\n      <th>2023-05-24 07:30:00</th>\n      <td>26748.0</td>\n      <td>26748.0</td>\n      <td>26669.0</td>\n      <td>26699.5</td>\n      <td>3939.648</td>\n    </tr>\n    <tr>\n      <th>2023-05-24 07:45:00</th>\n      <td>26699.4</td>\n      <td>26706.8</td>\n      <td>26650.5</td>\n      <td>26689.9</td>\n      <td>3817.344</td>\n    </tr>\n    <tr>\n      <th>2023-05-24 08:00:00</th>\n      <td>26690.0</td>\n      <td>26691.1</td>\n      <td>26672.0</td>\n      <td>26674.9</td>\n      <td>693.857</td>\n    </tr>\n  </tbody>\n</table>\n<p>3952 rows × 5 columns</p>\n</div>"
     },
     "execution_count": 12,
     "metadata": {},
     "output_type": "execute_result"
    }
   ],
   "source": [
    "df"
   ],
   "metadata": {
    "collapsed": false
   }
  },
  {
   "cell_type": "code",
   "execution_count": 16,
   "outputs": [],
   "source": [
    "df.iloc[0][\"new\"] =1"
   ],
   "metadata": {
    "collapsed": false
   }
  },
  {
   "cell_type": "code",
   "execution_count": 18,
   "outputs": [],
   "source": [
    "df[\"new\"] = 1"
   ],
   "metadata": {
    "collapsed": false
   }
  },
  {
   "cell_type": "code",
   "execution_count": 19,
   "outputs": [
    {
     "data": {
      "text/plain": "                        open     high      low    close     volume  new\ntime                                                                   \n2023-04-13 04:15:00  30057.2  30070.0  30029.6  30060.8   1563.938    1\n2023-04-13 04:30:00  30060.8  30089.5  30047.2  30077.4   1294.678    1\n2023-04-13 04:45:00  30077.0  30097.0  30033.5  30045.9   1933.793    1\n2023-04-13 05:00:00  30046.0  30065.7  30031.5  30038.7   1055.751    1\n2023-04-13 05:15:00  30038.7  30067.0  30025.4  30025.5   1019.455    1\n...                      ...      ...      ...      ...        ...  ...\n2023-05-24 07:00:00  26734.2  26734.2  26566.5  26699.9  10417.356    1\n2023-05-24 07:15:00  26700.0  26749.5  26673.3  26747.9   6405.009    1\n2023-05-24 07:30:00  26748.0  26748.0  26669.0  26699.5   3939.648    1\n2023-05-24 07:45:00  26699.4  26706.8  26650.5  26689.9   3817.344    1\n2023-05-24 08:00:00  26690.0  26691.1  26672.0  26674.9    693.857    1\n\n[3952 rows x 6 columns]",
      "text/html": "<div>\n<style scoped>\n    .dataframe tbody tr th:only-of-type {\n        vertical-align: middle;\n    }\n\n    .dataframe tbody tr th {\n        vertical-align: top;\n    }\n\n    .dataframe thead th {\n        text-align: right;\n    }\n</style>\n<table border=\"1\" class=\"dataframe\">\n  <thead>\n    <tr style=\"text-align: right;\">\n      <th></th>\n      <th>open</th>\n      <th>high</th>\n      <th>low</th>\n      <th>close</th>\n      <th>volume</th>\n      <th>new</th>\n    </tr>\n    <tr>\n      <th>time</th>\n      <th></th>\n      <th></th>\n      <th></th>\n      <th></th>\n      <th></th>\n      <th></th>\n    </tr>\n  </thead>\n  <tbody>\n    <tr>\n      <th>2023-04-13 04:15:00</th>\n      <td>30057.2</td>\n      <td>30070.0</td>\n      <td>30029.6</td>\n      <td>30060.8</td>\n      <td>1563.938</td>\n      <td>1</td>\n    </tr>\n    <tr>\n      <th>2023-04-13 04:30:00</th>\n      <td>30060.8</td>\n      <td>30089.5</td>\n      <td>30047.2</td>\n      <td>30077.4</td>\n      <td>1294.678</td>\n      <td>1</td>\n    </tr>\n    <tr>\n      <th>2023-04-13 04:45:00</th>\n      <td>30077.0</td>\n      <td>30097.0</td>\n      <td>30033.5</td>\n      <td>30045.9</td>\n      <td>1933.793</td>\n      <td>1</td>\n    </tr>\n    <tr>\n      <th>2023-04-13 05:00:00</th>\n      <td>30046.0</td>\n      <td>30065.7</td>\n      <td>30031.5</td>\n      <td>30038.7</td>\n      <td>1055.751</td>\n      <td>1</td>\n    </tr>\n    <tr>\n      <th>2023-04-13 05:15:00</th>\n      <td>30038.7</td>\n      <td>30067.0</td>\n      <td>30025.4</td>\n      <td>30025.5</td>\n      <td>1019.455</td>\n      <td>1</td>\n    </tr>\n    <tr>\n      <th>...</th>\n      <td>...</td>\n      <td>...</td>\n      <td>...</td>\n      <td>...</td>\n      <td>...</td>\n      <td>...</td>\n    </tr>\n    <tr>\n      <th>2023-05-24 07:00:00</th>\n      <td>26734.2</td>\n      <td>26734.2</td>\n      <td>26566.5</td>\n      <td>26699.9</td>\n      <td>10417.356</td>\n      <td>1</td>\n    </tr>\n    <tr>\n      <th>2023-05-24 07:15:00</th>\n      <td>26700.0</td>\n      <td>26749.5</td>\n      <td>26673.3</td>\n      <td>26747.9</td>\n      <td>6405.009</td>\n      <td>1</td>\n    </tr>\n    <tr>\n      <th>2023-05-24 07:30:00</th>\n      <td>26748.0</td>\n      <td>26748.0</td>\n      <td>26669.0</td>\n      <td>26699.5</td>\n      <td>3939.648</td>\n      <td>1</td>\n    </tr>\n    <tr>\n      <th>2023-05-24 07:45:00</th>\n      <td>26699.4</td>\n      <td>26706.8</td>\n      <td>26650.5</td>\n      <td>26689.9</td>\n      <td>3817.344</td>\n      <td>1</td>\n    </tr>\n    <tr>\n      <th>2023-05-24 08:00:00</th>\n      <td>26690.0</td>\n      <td>26691.1</td>\n      <td>26672.0</td>\n      <td>26674.9</td>\n      <td>693.857</td>\n      <td>1</td>\n    </tr>\n  </tbody>\n</table>\n<p>3952 rows × 6 columns</p>\n</div>"
     },
     "execution_count": 19,
     "metadata": {},
     "output_type": "execute_result"
    }
   ],
   "source": [
    "df"
   ],
   "metadata": {
    "collapsed": false
   }
  },
  {
   "cell_type": "code",
   "execution_count": 31,
   "outputs": [
    {
     "name": "stderr",
     "output_type": "stream",
     "text": [
      "C:\\Users\\zhouyi\\AppData\\Local\\Temp\\ipykernel_18296\\1508928237.py:2: SettingWithCopyWarning: \n",
      "A value is trying to be set on a copy of a slice from a DataFrame\n",
      "\n",
      "See the caveats in the documentation: https://pandas.pydata.org/pandas-docs/stable/user_guide/indexing.html#returning-a-view-versus-a-copy\n",
      "  x[2] = 1\n"
     ]
    },
    {
     "data": {
      "text/plain": "time\n2023-04-13 04:15:00    1\n2023-04-13 04:30:00    1\n2023-04-13 04:45:00    1\n2023-04-13 05:00:00    1\n2023-04-13 05:15:00    1\n                      ..\n2023-05-24 07:00:00    1\n2023-05-24 07:15:00    1\n2023-05-24 07:30:00    1\n2023-05-24 07:45:00    1\n2023-05-24 08:00:00    1\nName: new, Length: 3952, dtype: int64"
     },
     "execution_count": 31,
     "metadata": {},
     "output_type": "execute_result"
    }
   ],
   "source": [],
   "metadata": {
    "collapsed": false
   }
  },
  {
   "cell_type": "code",
   "execution_count": 40,
   "outputs": [],
   "source": [
    "df.iloc[0,5] = 2\n"
   ],
   "metadata": {
    "collapsed": false
   }
  },
  {
   "cell_type": "code",
   "execution_count": 37,
   "outputs": [
    {
     "name": "stderr",
     "output_type": "stream",
     "text": [
      "C:\\Users\\zhouyi\\AppData\\Local\\Temp\\ipykernel_18296\\3817396323.py:1: SettingWithCopyWarning: \n",
      "A value is trying to be set on a copy of a slice from a DataFrame\n",
      "\n",
      "See the caveats in the documentation: https://pandas.pydata.org/pandas-docs/stable/user_guide/indexing.html#returning-a-view-versus-a-copy\n",
      "  df.iloc[1]['new'] = 2\n"
     ]
    }
   ],
   "source": [
    "df.iloc[1]['new'] = 2"
   ],
   "metadata": {
    "collapsed": false
   }
  },
  {
   "cell_type": "code",
   "execution_count": 39,
   "outputs": [
    {
     "data": {
      "text/plain": "open      30057.200\nhigh      30070.000\nlow       30029.600\nclose     30060.800\nvolume     1563.938\nnew           2.000\nName: 2023-04-13 04:15:00, dtype: float64"
     },
     "execution_count": 39,
     "metadata": {},
     "output_type": "execute_result"
    }
   ],
   "source": [
    "df.iloc[0]"
   ],
   "metadata": {
    "collapsed": false
   }
  },
  {
   "cell_type": "code",
   "execution_count": null,
   "outputs": [],
   "source": [],
   "metadata": {
    "collapsed": false
   }
  }
 ],
 "metadata": {
  "kernelspec": {
   "display_name": "Python 3",
   "language": "python",
   "name": "python3"
  },
  "language_info": {
   "codemirror_mode": {
    "name": "ipython",
    "version": 2
   },
   "file_extension": ".py",
   "mimetype": "text/x-python",
   "name": "python",
   "nbconvert_exporter": "python",
   "pygments_lexer": "ipython2",
   "version": "2.7.6"
  }
 },
 "nbformat": 4,
 "nbformat_minor": 0
}
