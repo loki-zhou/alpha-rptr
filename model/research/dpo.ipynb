{
 "cells": [
  {
   "cell_type": "code",
   "execution_count": 1,
   "metadata": {
    "collapsed": true
   },
   "outputs": [],
   "source": [
    "import pandas as pd"
   ]
  },
  {
   "cell_type": "code",
   "execution_count": 3,
   "outputs": [],
   "source": [
    "df = pd.read_csv(r\"D:\\rl\\alpha-rptr\\ohlc\\binance_futures\\BTCUSDT\\['15m']\\data.csv\", parse_dates=[\"time\"], index_col=\"time\")\n",
    "df = df.tz_localize(None)\n",
    "df = df.rename(columns={\"time\": \"date\"})"
   ],
   "metadata": {
    "collapsed": false
   }
  },
  {
   "cell_type": "code",
   "execution_count": 4,
   "outputs": [
    {
     "data": {
      "text/plain": "                        open     high      low    close     volume\ntime                                                              \n2023-04-13 04:15:00  30057.2  30070.0  30029.6  30060.8   1563.938\n2023-04-13 04:30:00  30060.8  30089.5  30047.2  30077.4   1294.678\n2023-04-13 04:45:00  30077.0  30097.0  30033.5  30045.9   1933.793\n2023-04-13 05:00:00  30046.0  30065.7  30031.5  30038.7   1055.751\n2023-04-13 05:15:00  30038.7  30067.0  30025.4  30025.5   1019.455\n...                      ...      ...      ...      ...        ...\n2023-05-24 07:00:00  26734.2  26734.2  26566.5  26699.9  10417.356\n2023-05-24 07:15:00  26700.0  26749.5  26673.3  26747.9   6405.009\n2023-05-24 07:30:00  26748.0  26748.0  26669.0  26699.5   3939.648\n2023-05-24 07:45:00  26699.4  26706.8  26650.5  26689.9   3817.344\n2023-05-24 08:00:00  26690.0  26691.1  26672.0  26674.9    693.857\n\n[3952 rows x 5 columns]",
      "text/html": "<div>\n<style scoped>\n    .dataframe tbody tr th:only-of-type {\n        vertical-align: middle;\n    }\n\n    .dataframe tbody tr th {\n        vertical-align: top;\n    }\n\n    .dataframe thead th {\n        text-align: right;\n    }\n</style>\n<table border=\"1\" class=\"dataframe\">\n  <thead>\n    <tr style=\"text-align: right;\">\n      <th></th>\n      <th>open</th>\n      <th>high</th>\n      <th>low</th>\n      <th>close</th>\n      <th>volume</th>\n    </tr>\n    <tr>\n      <th>time</th>\n      <th></th>\n      <th></th>\n      <th></th>\n      <th></th>\n      <th></th>\n    </tr>\n  </thead>\n  <tbody>\n    <tr>\n      <th>2023-04-13 04:15:00</th>\n      <td>30057.2</td>\n      <td>30070.0</td>\n      <td>30029.6</td>\n      <td>30060.8</td>\n      <td>1563.938</td>\n    </tr>\n    <tr>\n      <th>2023-04-13 04:30:00</th>\n      <td>30060.8</td>\n      <td>30089.5</td>\n      <td>30047.2</td>\n      <td>30077.4</td>\n      <td>1294.678</td>\n    </tr>\n    <tr>\n      <th>2023-04-13 04:45:00</th>\n      <td>30077.0</td>\n      <td>30097.0</td>\n      <td>30033.5</td>\n      <td>30045.9</td>\n      <td>1933.793</td>\n    </tr>\n    <tr>\n      <th>2023-04-13 05:00:00</th>\n      <td>30046.0</td>\n      <td>30065.7</td>\n      <td>30031.5</td>\n      <td>30038.7</td>\n      <td>1055.751</td>\n    </tr>\n    <tr>\n      <th>2023-04-13 05:15:00</th>\n      <td>30038.7</td>\n      <td>30067.0</td>\n      <td>30025.4</td>\n      <td>30025.5</td>\n      <td>1019.455</td>\n    </tr>\n    <tr>\n      <th>...</th>\n      <td>...</td>\n      <td>...</td>\n      <td>...</td>\n      <td>...</td>\n      <td>...</td>\n    </tr>\n    <tr>\n      <th>2023-05-24 07:00:00</th>\n      <td>26734.2</td>\n      <td>26734.2</td>\n      <td>26566.5</td>\n      <td>26699.9</td>\n      <td>10417.356</td>\n    </tr>\n    <tr>\n      <th>2023-05-24 07:15:00</th>\n      <td>26700.0</td>\n      <td>26749.5</td>\n      <td>26673.3</td>\n      <td>26747.9</td>\n      <td>6405.009</td>\n    </tr>\n    <tr>\n      <th>2023-05-24 07:30:00</th>\n      <td>26748.0</td>\n      <td>26748.0</td>\n      <td>26669.0</td>\n      <td>26699.5</td>\n      <td>3939.648</td>\n    </tr>\n    <tr>\n      <th>2023-05-24 07:45:00</th>\n      <td>26699.4</td>\n      <td>26706.8</td>\n      <td>26650.5</td>\n      <td>26689.9</td>\n      <td>3817.344</td>\n    </tr>\n    <tr>\n      <th>2023-05-24 08:00:00</th>\n      <td>26690.0</td>\n      <td>26691.1</td>\n      <td>26672.0</td>\n      <td>26674.9</td>\n      <td>693.857</td>\n    </tr>\n  </tbody>\n</table>\n<p>3952 rows × 5 columns</p>\n</div>"
     },
     "execution_count": 4,
     "metadata": {},
     "output_type": "execute_result"
    }
   ],
   "source": [
    "df"
   ],
   "metadata": {
    "collapsed": false
   }
  },
  {
   "cell_type": "code",
   "execution_count": 5,
   "outputs": [],
   "source": [
    "import pandas_ta as ta"
   ],
   "metadata": {
    "collapsed": false
   }
  },
  {
   "cell_type": "code",
   "execution_count": 6,
   "outputs": [],
   "source": [
    "CustomStrategy = ta.Strategy(\n",
    "    name=\"Momo and Volatility\",\n",
    "    description=\"SMA 50,200, BBANDS, RSI, MACD and Volume SMA 20\",\n",
    "    ta=[\n",
    "        {\"kind\": \"dpo\", \"prefix\": \"aheadfeature\"},\n",
    "        {\"kind\": \"dpo\", \"prefix\": \"feature\"},\n",
    "    ]\n",
    ")"
   ],
   "metadata": {
    "collapsed": false
   }
  },
  {
   "cell_type": "code",
   "execution_count": 7,
   "outputs": [],
   "source": [
    "df.ta.cores = 0\n",
    "df.ta.strategy(CustomStrategy)"
   ],
   "metadata": {
    "collapsed": false
   }
  },
  {
   "cell_type": "code",
   "execution_count": 8,
   "outputs": [
    {
     "data": {
      "text/plain": "                        open     high      low    close     volume   \ntime                                                                 \n2023-04-13 04:15:00  30057.2  30070.0  30029.6  30060.8   1563.938  \\\n2023-04-13 04:30:00  30060.8  30089.5  30047.2  30077.4   1294.678   \n2023-04-13 04:45:00  30077.0  30097.0  30033.5  30045.9   1933.793   \n2023-04-13 05:00:00  30046.0  30065.7  30031.5  30038.7   1055.751   \n2023-04-13 05:15:00  30038.7  30067.0  30025.4  30025.5   1019.455   \n...                      ...      ...      ...      ...        ...   \n2023-05-24 07:00:00  26734.2  26734.2  26566.5  26699.9  10417.356   \n2023-05-24 07:15:00  26700.0  26749.5  26673.3  26747.9   6405.009   \n2023-05-24 07:30:00  26748.0  26748.0  26669.0  26699.5   3939.648   \n2023-05-24 07:45:00  26699.4  26706.8  26650.5  26689.9   3817.344   \n2023-05-24 08:00:00  26690.0  26691.1  26672.0  26674.9    693.857   \n\n                     feature_DPO_20  \ntime                                 \n2023-04-13 04:15:00             NaN  \n2023-04-13 04:30:00             NaN  \n2023-04-13 04:45:00             NaN  \n2023-04-13 05:00:00             NaN  \n2023-04-13 05:15:00             NaN  \n...                             ...  \n2023-05-24 07:00:00             NaN  \n2023-05-24 07:15:00             NaN  \n2023-05-24 07:30:00             NaN  \n2023-05-24 07:45:00             NaN  \n2023-05-24 08:00:00             NaN  \n\n[3952 rows x 6 columns]",
      "text/html": "<div>\n<style scoped>\n    .dataframe tbody tr th:only-of-type {\n        vertical-align: middle;\n    }\n\n    .dataframe tbody tr th {\n        vertical-align: top;\n    }\n\n    .dataframe thead th {\n        text-align: right;\n    }\n</style>\n<table border=\"1\" class=\"dataframe\">\n  <thead>\n    <tr style=\"text-align: right;\">\n      <th></th>\n      <th>open</th>\n      <th>high</th>\n      <th>low</th>\n      <th>close</th>\n      <th>volume</th>\n      <th>feature_DPO_20</th>\n    </tr>\n    <tr>\n      <th>time</th>\n      <th></th>\n      <th></th>\n      <th></th>\n      <th></th>\n      <th></th>\n      <th></th>\n    </tr>\n  </thead>\n  <tbody>\n    <tr>\n      <th>2023-04-13 04:15:00</th>\n      <td>30057.2</td>\n      <td>30070.0</td>\n      <td>30029.6</td>\n      <td>30060.8</td>\n      <td>1563.938</td>\n      <td>NaN</td>\n    </tr>\n    <tr>\n      <th>2023-04-13 04:30:00</th>\n      <td>30060.8</td>\n      <td>30089.5</td>\n      <td>30047.2</td>\n      <td>30077.4</td>\n      <td>1294.678</td>\n      <td>NaN</td>\n    </tr>\n    <tr>\n      <th>2023-04-13 04:45:00</th>\n      <td>30077.0</td>\n      <td>30097.0</td>\n      <td>30033.5</td>\n      <td>30045.9</td>\n      <td>1933.793</td>\n      <td>NaN</td>\n    </tr>\n    <tr>\n      <th>2023-04-13 05:00:00</th>\n      <td>30046.0</td>\n      <td>30065.7</td>\n      <td>30031.5</td>\n      <td>30038.7</td>\n      <td>1055.751</td>\n      <td>NaN</td>\n    </tr>\n    <tr>\n      <th>2023-04-13 05:15:00</th>\n      <td>30038.7</td>\n      <td>30067.0</td>\n      <td>30025.4</td>\n      <td>30025.5</td>\n      <td>1019.455</td>\n      <td>NaN</td>\n    </tr>\n    <tr>\n      <th>...</th>\n      <td>...</td>\n      <td>...</td>\n      <td>...</td>\n      <td>...</td>\n      <td>...</td>\n      <td>...</td>\n    </tr>\n    <tr>\n      <th>2023-05-24 07:00:00</th>\n      <td>26734.2</td>\n      <td>26734.2</td>\n      <td>26566.5</td>\n      <td>26699.9</td>\n      <td>10417.356</td>\n      <td>NaN</td>\n    </tr>\n    <tr>\n      <th>2023-05-24 07:15:00</th>\n      <td>26700.0</td>\n      <td>26749.5</td>\n      <td>26673.3</td>\n      <td>26747.9</td>\n      <td>6405.009</td>\n      <td>NaN</td>\n    </tr>\n    <tr>\n      <th>2023-05-24 07:30:00</th>\n      <td>26748.0</td>\n      <td>26748.0</td>\n      <td>26669.0</td>\n      <td>26699.5</td>\n      <td>3939.648</td>\n      <td>NaN</td>\n    </tr>\n    <tr>\n      <th>2023-05-24 07:45:00</th>\n      <td>26699.4</td>\n      <td>26706.8</td>\n      <td>26650.5</td>\n      <td>26689.9</td>\n      <td>3817.344</td>\n      <td>NaN</td>\n    </tr>\n    <tr>\n      <th>2023-05-24 08:00:00</th>\n      <td>26690.0</td>\n      <td>26691.1</td>\n      <td>26672.0</td>\n      <td>26674.9</td>\n      <td>693.857</td>\n      <td>NaN</td>\n    </tr>\n  </tbody>\n</table>\n<p>3952 rows × 6 columns</p>\n</div>"
     },
     "execution_count": 8,
     "metadata": {},
     "output_type": "execute_result"
    }
   ],
   "source": [
    "df"
   ],
   "metadata": {
    "collapsed": false
   }
  },
  {
   "cell_type": "code",
   "execution_count": 9,
   "outputs": [
    {
     "data": {
      "text/plain": "time\n2023-04-13 04:15:00   NaN\n2023-04-13 04:30:00   NaN\n2023-04-13 04:45:00   NaN\n2023-04-13 05:00:00   NaN\n2023-04-13 05:15:00   NaN\n                       ..\n2023-05-24 07:00:00   NaN\n2023-05-24 07:15:00   NaN\n2023-05-24 07:30:00   NaN\n2023-05-24 07:45:00   NaN\n2023-05-24 08:00:00   NaN\nName: DPO_20, Length: 3952, dtype: float64"
     },
     "execution_count": 9,
     "metadata": {},
     "output_type": "execute_result"
    }
   ],
   "source": [
    "df.ta.dpo()"
   ],
   "metadata": {
    "collapsed": false
   }
  },
  {
   "cell_type": "code",
   "execution_count": 10,
   "outputs": [
    {
     "name": "stdout",
     "output_type": "stream",
     "text": [
      "Help on function dpo in module pandas_ta.trend.dpo:\n",
      "\n",
      "dpo(close, length=None, centered=True, offset=None, **kwargs)\n",
      "    Detrend Price Oscillator (DPO)\n",
      "    \n",
      "    Is an indicator designed to remove trend from price and make it easier to\n",
      "    identify cycles.\n",
      "    \n",
      "    Sources:\n",
      "        https://www.tradingview.com/scripts/detrendedpriceoscillator/\n",
      "        https://www.fidelity.com/learning-center/trading-investing/technical-analysis/technical-indicator-guide/dpo\n",
      "        http://stockcharts.com/school/doku.php?id=chart_school:technical_indicators:detrended_price_osci\n",
      "    \n",
      "    Calculation:\n",
      "        Default Inputs:\n",
      "            length=20, centered=True\n",
      "        SMA = Simple Moving Average\n",
      "        t = int(0.5 * length) + 1\n",
      "    \n",
      "        DPO = close.shift(t) - SMA(close, length)\n",
      "        if centered:\n",
      "            DPO = DPO.shift(-t)\n",
      "    \n",
      "    Args:\n",
      "        close (pd.Series): Series of 'close's\n",
      "        length (int): It's period. Default: 1\n",
      "        centered (bool): Shift the dpo back by int(0.5 * length) + 1. Default: True\n",
      "        offset (int): How many periods to offset the result. Default: 0\n",
      "    \n",
      "    Kwargs:\n",
      "        fillna (value, optional): pd.DataFrame.fillna(value)\n",
      "        fill_method (value, optional): Type of fill method\n",
      "    \n",
      "    Returns:\n",
      "        pd.Series: New feature generated.\n",
      "\n"
     ]
    }
   ],
   "source": [
    "help(ta.dpo)"
   ],
   "metadata": {
    "collapsed": false
   }
  },
  {
   "cell_type": "code",
   "execution_count": 11,
   "outputs": [],
   "source": [
    "df[\"close_shift1\"] = df.close.shift(11)"
   ],
   "metadata": {
    "collapsed": false
   }
  },
  {
   "cell_type": "code",
   "execution_count": 13,
   "outputs": [],
   "source": [
    "df[\"close_ma20\"] = df.ta.sma(20)"
   ],
   "metadata": {
    "collapsed": false
   }
  },
  {
   "cell_type": "code",
   "execution_count": 15,
   "outputs": [],
   "source": [
    "df[\"dpo\"] = df[\"close_shift1\"]-df[\"close_ma20\"]"
   ],
   "metadata": {
    "collapsed": false
   }
  },
  {
   "cell_type": "code",
   "execution_count": 16,
   "outputs": [
    {
     "data": {
      "text/plain": "                        open     high      low    close     volume   \ntime                                                                 \n2023-04-13 04:15:00  30057.2  30070.0  30029.6  30060.8   1563.938  \\\n2023-04-13 04:30:00  30060.8  30089.5  30047.2  30077.4   1294.678   \n2023-04-13 04:45:00  30077.0  30097.0  30033.5  30045.9   1933.793   \n2023-04-13 05:00:00  30046.0  30065.7  30031.5  30038.7   1055.751   \n2023-04-13 05:15:00  30038.7  30067.0  30025.4  30025.5   1019.455   \n...                      ...      ...      ...      ...        ...   \n2023-05-24 07:00:00  26734.2  26734.2  26566.5  26699.9  10417.356   \n2023-05-24 07:15:00  26700.0  26749.5  26673.3  26747.9   6405.009   \n2023-05-24 07:30:00  26748.0  26748.0  26669.0  26699.5   3939.648   \n2023-05-24 07:45:00  26699.4  26706.8  26650.5  26689.9   3817.344   \n2023-05-24 08:00:00  26690.0  26691.1  26672.0  26674.9    693.857   \n\n                     feature_DPO_20  close_shift1  close_ma20      dpo  \ntime                                                                    \n2023-04-13 04:15:00             NaN           NaN         NaN      NaN  \n2023-04-13 04:30:00             NaN           NaN         NaN      NaN  \n2023-04-13 04:45:00             NaN           NaN         NaN      NaN  \n2023-04-13 05:00:00             NaN           NaN         NaN      NaN  \n2023-04-13 05:15:00             NaN           NaN         NaN      NaN  \n...                             ...           ...         ...      ...  \n2023-05-24 07:00:00             NaN       26701.2   26857.170 -155.970  \n2023-05-24 07:15:00             NaN       26748.1   26837.060  -88.960  \n2023-05-24 07:30:00             NaN       26774.5   26814.245  -39.745  \n2023-05-24 07:45:00             NaN       26791.3   26791.145    0.155  \n2023-05-24 08:00:00             NaN       26795.1   26767.230   27.870  \n\n[3952 rows x 9 columns]",
      "text/html": "<div>\n<style scoped>\n    .dataframe tbody tr th:only-of-type {\n        vertical-align: middle;\n    }\n\n    .dataframe tbody tr th {\n        vertical-align: top;\n    }\n\n    .dataframe thead th {\n        text-align: right;\n    }\n</style>\n<table border=\"1\" class=\"dataframe\">\n  <thead>\n    <tr style=\"text-align: right;\">\n      <th></th>\n      <th>open</th>\n      <th>high</th>\n      <th>low</th>\n      <th>close</th>\n      <th>volume</th>\n      <th>feature_DPO_20</th>\n      <th>close_shift1</th>\n      <th>close_ma20</th>\n      <th>dpo</th>\n    </tr>\n    <tr>\n      <th>time</th>\n      <th></th>\n      <th></th>\n      <th></th>\n      <th></th>\n      <th></th>\n      <th></th>\n      <th></th>\n      <th></th>\n      <th></th>\n    </tr>\n  </thead>\n  <tbody>\n    <tr>\n      <th>2023-04-13 04:15:00</th>\n      <td>30057.2</td>\n      <td>30070.0</td>\n      <td>30029.6</td>\n      <td>30060.8</td>\n      <td>1563.938</td>\n      <td>NaN</td>\n      <td>NaN</td>\n      <td>NaN</td>\n      <td>NaN</td>\n    </tr>\n    <tr>\n      <th>2023-04-13 04:30:00</th>\n      <td>30060.8</td>\n      <td>30089.5</td>\n      <td>30047.2</td>\n      <td>30077.4</td>\n      <td>1294.678</td>\n      <td>NaN</td>\n      <td>NaN</td>\n      <td>NaN</td>\n      <td>NaN</td>\n    </tr>\n    <tr>\n      <th>2023-04-13 04:45:00</th>\n      <td>30077.0</td>\n      <td>30097.0</td>\n      <td>30033.5</td>\n      <td>30045.9</td>\n      <td>1933.793</td>\n      <td>NaN</td>\n      <td>NaN</td>\n      <td>NaN</td>\n      <td>NaN</td>\n    </tr>\n    <tr>\n      <th>2023-04-13 05:00:00</th>\n      <td>30046.0</td>\n      <td>30065.7</td>\n      <td>30031.5</td>\n      <td>30038.7</td>\n      <td>1055.751</td>\n      <td>NaN</td>\n      <td>NaN</td>\n      <td>NaN</td>\n      <td>NaN</td>\n    </tr>\n    <tr>\n      <th>2023-04-13 05:15:00</th>\n      <td>30038.7</td>\n      <td>30067.0</td>\n      <td>30025.4</td>\n      <td>30025.5</td>\n      <td>1019.455</td>\n      <td>NaN</td>\n      <td>NaN</td>\n      <td>NaN</td>\n      <td>NaN</td>\n    </tr>\n    <tr>\n      <th>...</th>\n      <td>...</td>\n      <td>...</td>\n      <td>...</td>\n      <td>...</td>\n      <td>...</td>\n      <td>...</td>\n      <td>...</td>\n      <td>...</td>\n      <td>...</td>\n    </tr>\n    <tr>\n      <th>2023-05-24 07:00:00</th>\n      <td>26734.2</td>\n      <td>26734.2</td>\n      <td>26566.5</td>\n      <td>26699.9</td>\n      <td>10417.356</td>\n      <td>NaN</td>\n      <td>26701.2</td>\n      <td>26857.170</td>\n      <td>-155.970</td>\n    </tr>\n    <tr>\n      <th>2023-05-24 07:15:00</th>\n      <td>26700.0</td>\n      <td>26749.5</td>\n      <td>26673.3</td>\n      <td>26747.9</td>\n      <td>6405.009</td>\n      <td>NaN</td>\n      <td>26748.1</td>\n      <td>26837.060</td>\n      <td>-88.960</td>\n    </tr>\n    <tr>\n      <th>2023-05-24 07:30:00</th>\n      <td>26748.0</td>\n      <td>26748.0</td>\n      <td>26669.0</td>\n      <td>26699.5</td>\n      <td>3939.648</td>\n      <td>NaN</td>\n      <td>26774.5</td>\n      <td>26814.245</td>\n      <td>-39.745</td>\n    </tr>\n    <tr>\n      <th>2023-05-24 07:45:00</th>\n      <td>26699.4</td>\n      <td>26706.8</td>\n      <td>26650.5</td>\n      <td>26689.9</td>\n      <td>3817.344</td>\n      <td>NaN</td>\n      <td>26791.3</td>\n      <td>26791.145</td>\n      <td>0.155</td>\n    </tr>\n    <tr>\n      <th>2023-05-24 08:00:00</th>\n      <td>26690.0</td>\n      <td>26691.1</td>\n      <td>26672.0</td>\n      <td>26674.9</td>\n      <td>693.857</td>\n      <td>NaN</td>\n      <td>26795.1</td>\n      <td>26767.230</td>\n      <td>27.870</td>\n    </tr>\n  </tbody>\n</table>\n<p>3952 rows × 9 columns</p>\n</div>"
     },
     "execution_count": 16,
     "metadata": {},
     "output_type": "execute_result"
    }
   ],
   "source": [
    "df"
   ],
   "metadata": {
    "collapsed": false
   }
  },
  {
   "cell_type": "code",
   "execution_count": null,
   "outputs": [],
   "source": [],
   "metadata": {
    "collapsed": false
   }
  }
 ],
 "metadata": {
  "kernelspec": {
   "display_name": "Python 3",
   "language": "python",
   "name": "python3"
  },
  "language_info": {
   "codemirror_mode": {
    "name": "ipython",
    "version": 2
   },
   "file_extension": ".py",
   "mimetype": "text/x-python",
   "name": "python",
   "nbconvert_exporter": "python",
   "pygments_lexer": "ipython2",
   "version": "2.7.6"
  }
 },
 "nbformat": 4,
 "nbformat_minor": 0
}
