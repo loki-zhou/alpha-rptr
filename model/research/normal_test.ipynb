{
 "cells": [
  {
   "cell_type": "code",
   "execution_count": 2,
   "metadata": {
    "collapsed": true
   },
   "outputs": [],
   "source": [
    "import pandas as pd"
   ]
  },
  {
   "cell_type": "code",
   "execution_count": 3,
   "outputs": [],
   "source": [
    "def load_data():\n",
    "    df = pd.read_csv(r\"D:\\rl\\alpha-rptr\\ohlc\\binance_futures\\BTCUSDT\\['15m']\\data.csv\", parse_dates=[\"time\"], index_col=\"time\")\n",
    "    df=df.tz_localize(None)\n",
    "    df = df.rename(columns={\"time\": \"date\"})\n",
    "    df.sort_index(inplace=True)\n",
    "    df.dropna(inplace=True)\n",
    "    df.drop_duplicates(inplace=True)\n",
    "    return df"
   ],
   "metadata": {
    "collapsed": false
   }
  },
  {
   "cell_type": "code",
   "execution_count": 3,
   "outputs": [],
   "source": [
    "df = load_data()"
   ],
   "metadata": {
    "collapsed": false
   }
  },
  {
   "cell_type": "code",
   "execution_count": 4,
   "outputs": [
    {
     "data": {
      "text/plain": "                        open     high      low    close     volume\ntime                                                              \n2023-05-24 05:45:00  26809.5  26810.0  26729.6  26754.9   5063.715\n2023-05-24 06:00:00  26754.8  26764.0  26708.4  26762.3   3060.441\n2023-05-24 06:15:00  26762.3  26762.3  26708.3  26727.0   2994.778\n2023-05-24 06:30:00  26727.0  26746.8  26708.3  26730.0   2684.339\n2023-05-24 06:45:00  26730.0  26750.6  26705.4  26734.2   2570.397\n2023-05-24 07:00:00  26734.2  26734.2  26566.5  26699.9  10417.356\n2023-05-24 07:15:00  26700.0  26749.5  26673.3  26747.9   6405.009\n2023-05-24 07:30:00  26748.0  26748.0  26669.0  26699.5   3939.648\n2023-05-24 07:45:00  26699.4  26706.8  26650.5  26689.9   3817.344\n2023-05-24 08:00:00  26690.0  26691.1  26672.0  26674.9    693.857",
      "text/html": "<div>\n<style scoped>\n    .dataframe tbody tr th:only-of-type {\n        vertical-align: middle;\n    }\n\n    .dataframe tbody tr th {\n        vertical-align: top;\n    }\n\n    .dataframe thead th {\n        text-align: right;\n    }\n</style>\n<table border=\"1\" class=\"dataframe\">\n  <thead>\n    <tr style=\"text-align: right;\">\n      <th></th>\n      <th>open</th>\n      <th>high</th>\n      <th>low</th>\n      <th>close</th>\n      <th>volume</th>\n    </tr>\n    <tr>\n      <th>time</th>\n      <th></th>\n      <th></th>\n      <th></th>\n      <th></th>\n      <th></th>\n    </tr>\n  </thead>\n  <tbody>\n    <tr>\n      <th>2023-05-24 05:45:00</th>\n      <td>26809.5</td>\n      <td>26810.0</td>\n      <td>26729.6</td>\n      <td>26754.9</td>\n      <td>5063.715</td>\n    </tr>\n    <tr>\n      <th>2023-05-24 06:00:00</th>\n      <td>26754.8</td>\n      <td>26764.0</td>\n      <td>26708.4</td>\n      <td>26762.3</td>\n      <td>3060.441</td>\n    </tr>\n    <tr>\n      <th>2023-05-24 06:15:00</th>\n      <td>26762.3</td>\n      <td>26762.3</td>\n      <td>26708.3</td>\n      <td>26727.0</td>\n      <td>2994.778</td>\n    </tr>\n    <tr>\n      <th>2023-05-24 06:30:00</th>\n      <td>26727.0</td>\n      <td>26746.8</td>\n      <td>26708.3</td>\n      <td>26730.0</td>\n      <td>2684.339</td>\n    </tr>\n    <tr>\n      <th>2023-05-24 06:45:00</th>\n      <td>26730.0</td>\n      <td>26750.6</td>\n      <td>26705.4</td>\n      <td>26734.2</td>\n      <td>2570.397</td>\n    </tr>\n    <tr>\n      <th>2023-05-24 07:00:00</th>\n      <td>26734.2</td>\n      <td>26734.2</td>\n      <td>26566.5</td>\n      <td>26699.9</td>\n      <td>10417.356</td>\n    </tr>\n    <tr>\n      <th>2023-05-24 07:15:00</th>\n      <td>26700.0</td>\n      <td>26749.5</td>\n      <td>26673.3</td>\n      <td>26747.9</td>\n      <td>6405.009</td>\n    </tr>\n    <tr>\n      <th>2023-05-24 07:30:00</th>\n      <td>26748.0</td>\n      <td>26748.0</td>\n      <td>26669.0</td>\n      <td>26699.5</td>\n      <td>3939.648</td>\n    </tr>\n    <tr>\n      <th>2023-05-24 07:45:00</th>\n      <td>26699.4</td>\n      <td>26706.8</td>\n      <td>26650.5</td>\n      <td>26689.9</td>\n      <td>3817.344</td>\n    </tr>\n    <tr>\n      <th>2023-05-24 08:00:00</th>\n      <td>26690.0</td>\n      <td>26691.1</td>\n      <td>26672.0</td>\n      <td>26674.9</td>\n      <td>693.857</td>\n    </tr>\n  </tbody>\n</table>\n</div>"
     },
     "execution_count": 4,
     "metadata": {},
     "output_type": "execute_result"
    }
   ],
   "source": [
    "df.tail(10)"
   ],
   "metadata": {
    "collapsed": false
   }
  },
  {
   "cell_type": "code",
   "execution_count": 5,
   "outputs": [],
   "source": [
    "from custom_indicators import normalization"
   ],
   "metadata": {
    "collapsed": false
   }
  },
  {
   "cell_type": "code",
   "execution_count": 6,
   "outputs": [
    {
     "data": {
      "text/plain": "                        open     high      low    close     volume   \ntime                                                                 \n2023-05-24 05:45:00  26809.5  26810.0  26729.6  26754.9   5063.715  \\\n2023-05-24 06:00:00  26754.8  26764.0  26708.4  26762.3   3060.441   \n2023-05-24 06:15:00  26762.3  26762.3  26708.3  26727.0   2994.778   \n2023-05-24 06:30:00  26727.0  26746.8  26708.3  26730.0   2684.339   \n2023-05-24 06:45:00  26730.0  26750.6  26705.4  26734.2   2570.397   \n2023-05-24 07:00:00  26734.2  26734.2  26566.5  26699.9  10417.356   \n2023-05-24 07:15:00  26700.0  26749.5  26673.3  26747.9   6405.009   \n2023-05-24 07:30:00  26748.0  26748.0  26669.0  26699.5   3939.648   \n2023-05-24 07:45:00  26699.4  26706.8  26650.5  26689.9   3817.344   \n2023-05-24 08:00:00  26690.0  26691.1  26672.0  26674.9    693.857   \n\n                     feature_highlow_open  feature_highlow_low   \ntime                                                             \n2023-05-24 05:45:00              0.187139             0.096683  \\\n2023-05-24 06:00:00              0.125212             0.072682   \n2023-05-24 06:15:00              0.133703             0.072569   \n2023-05-24 06:30:00              0.104099             0.080588   \n2023-05-24 06:45:00              0.107870             0.076942   \n2023-05-24 07:00:00              0.196900             0.000000   \n2023-05-24 07:15:00              0.160168             0.128134   \n2023-05-24 07:30:00              0.222290             0.125536   \n2023-05-24 07:45:00              0.162768             0.102878   \n2023-05-24 08:00:00              0.151255             0.129210   \n\n                     feature_highlow_high  feature_highlow_close   \ntime                                                               \n2023-05-24 05:45:00              0.187705               0.125325  \\\n2023-05-24 06:00:00              0.135628               0.133703   \n2023-05-24 06:15:00              0.133703               0.093739   \n2023-05-24 06:30:00              0.128992               0.107870   \n2023-05-24 06:45:00              0.133769               0.113151   \n2023-05-24 07:00:00              0.196900               0.156628   \n2023-05-24 07:15:00              0.219556               0.217636   \n2023-05-24 07:30:00              0.222290               0.162890   \n2023-05-24 07:45:00              0.171831               0.151133   \n2023-05-24 08:00:00              0.152603               0.132762   \n\n                     feature_highlow_volume  \ntime                                         \n2023-05-24 05:45:00                0.119547  \n2023-05-24 06:00:00                0.068211  \n2023-05-24 06:15:00                0.066528  \n2023-05-24 06:30:00                0.058573  \n2023-05-24 06:45:00                0.055653  \n2023-05-24 07:00:00                0.256739  \n2023-05-24 07:15:00                0.153919  \n2023-05-24 07:30:00                0.090741  \n2023-05-24 07:45:00                0.087607  \n2023-05-24 08:00:00                0.007564  ",
      "text/html": "<div>\n<style scoped>\n    .dataframe tbody tr th:only-of-type {\n        vertical-align: middle;\n    }\n\n    .dataframe tbody tr th {\n        vertical-align: top;\n    }\n\n    .dataframe thead th {\n        text-align: right;\n    }\n</style>\n<table border=\"1\" class=\"dataframe\">\n  <thead>\n    <tr style=\"text-align: right;\">\n      <th></th>\n      <th>open</th>\n      <th>high</th>\n      <th>low</th>\n      <th>close</th>\n      <th>volume</th>\n      <th>feature_highlow_open</th>\n      <th>feature_highlow_low</th>\n      <th>feature_highlow_high</th>\n      <th>feature_highlow_close</th>\n      <th>feature_highlow_volume</th>\n    </tr>\n    <tr>\n      <th>time</th>\n      <th></th>\n      <th></th>\n      <th></th>\n      <th></th>\n      <th></th>\n      <th></th>\n      <th></th>\n      <th></th>\n      <th></th>\n      <th></th>\n    </tr>\n  </thead>\n  <tbody>\n    <tr>\n      <th>2023-05-24 05:45:00</th>\n      <td>26809.5</td>\n      <td>26810.0</td>\n      <td>26729.6</td>\n      <td>26754.9</td>\n      <td>5063.715</td>\n      <td>0.187139</td>\n      <td>0.096683</td>\n      <td>0.187705</td>\n      <td>0.125325</td>\n      <td>0.119547</td>\n    </tr>\n    <tr>\n      <th>2023-05-24 06:00:00</th>\n      <td>26754.8</td>\n      <td>26764.0</td>\n      <td>26708.4</td>\n      <td>26762.3</td>\n      <td>3060.441</td>\n      <td>0.125212</td>\n      <td>0.072682</td>\n      <td>0.135628</td>\n      <td>0.133703</td>\n      <td>0.068211</td>\n    </tr>\n    <tr>\n      <th>2023-05-24 06:15:00</th>\n      <td>26762.3</td>\n      <td>26762.3</td>\n      <td>26708.3</td>\n      <td>26727.0</td>\n      <td>2994.778</td>\n      <td>0.133703</td>\n      <td>0.072569</td>\n      <td>0.133703</td>\n      <td>0.093739</td>\n      <td>0.066528</td>\n    </tr>\n    <tr>\n      <th>2023-05-24 06:30:00</th>\n      <td>26727.0</td>\n      <td>26746.8</td>\n      <td>26708.3</td>\n      <td>26730.0</td>\n      <td>2684.339</td>\n      <td>0.104099</td>\n      <td>0.080588</td>\n      <td>0.128992</td>\n      <td>0.107870</td>\n      <td>0.058573</td>\n    </tr>\n    <tr>\n      <th>2023-05-24 06:45:00</th>\n      <td>26730.0</td>\n      <td>26750.6</td>\n      <td>26705.4</td>\n      <td>26734.2</td>\n      <td>2570.397</td>\n      <td>0.107870</td>\n      <td>0.076942</td>\n      <td>0.133769</td>\n      <td>0.113151</td>\n      <td>0.055653</td>\n    </tr>\n    <tr>\n      <th>2023-05-24 07:00:00</th>\n      <td>26734.2</td>\n      <td>26734.2</td>\n      <td>26566.5</td>\n      <td>26699.9</td>\n      <td>10417.356</td>\n      <td>0.196900</td>\n      <td>0.000000</td>\n      <td>0.196900</td>\n      <td>0.156628</td>\n      <td>0.256739</td>\n    </tr>\n    <tr>\n      <th>2023-05-24 07:15:00</th>\n      <td>26700.0</td>\n      <td>26749.5</td>\n      <td>26673.3</td>\n      <td>26747.9</td>\n      <td>6405.009</td>\n      <td>0.160168</td>\n      <td>0.128134</td>\n      <td>0.219556</td>\n      <td>0.217636</td>\n      <td>0.153919</td>\n    </tr>\n    <tr>\n      <th>2023-05-24 07:30:00</th>\n      <td>26748.0</td>\n      <td>26748.0</td>\n      <td>26669.0</td>\n      <td>26699.5</td>\n      <td>3939.648</td>\n      <td>0.222290</td>\n      <td>0.125536</td>\n      <td>0.222290</td>\n      <td>0.162890</td>\n      <td>0.090741</td>\n    </tr>\n    <tr>\n      <th>2023-05-24 07:45:00</th>\n      <td>26699.4</td>\n      <td>26706.8</td>\n      <td>26650.5</td>\n      <td>26689.9</td>\n      <td>3817.344</td>\n      <td>0.162768</td>\n      <td>0.102878</td>\n      <td>0.171831</td>\n      <td>0.151133</td>\n      <td>0.087607</td>\n    </tr>\n    <tr>\n      <th>2023-05-24 08:00:00</th>\n      <td>26690.0</td>\n      <td>26691.1</td>\n      <td>26672.0</td>\n      <td>26674.9</td>\n      <td>693.857</td>\n      <td>0.151255</td>\n      <td>0.129210</td>\n      <td>0.152603</td>\n      <td>0.132762</td>\n      <td>0.007564</td>\n    </tr>\n  </tbody>\n</table>\n</div>"
     },
     "execution_count": 6,
     "metadata": {},
     "output_type": "execute_result"
    }
   ],
   "source": [
    "df = normalization.highlow_ochlv(df,  windows_size = 100)\n",
    "df.tail(10)"
   ],
   "metadata": {
    "collapsed": false
   }
  },
  {
   "cell_type": "code",
   "execution_count": 7,
   "outputs": [
    {
     "data": {
      "text/plain": "                        open     high      low    close     volume   \ntime                                                                 \n2023-05-23 07:15:00  27284.5  27301.2  27270.6  27275.3   3306.280  \\\n2023-05-23 07:30:00  27275.3  27319.9  27246.0  27247.7   4640.963   \n2023-05-23 07:45:00  27247.8  27254.7  27202.2  27254.6   3402.700   \n2023-05-23 08:00:00  27276.9  27312.6  27242.5  27295.8   3171.947   \n2023-05-23 08:15:00  27295.8  27319.0  27250.6  27268.3   3149.699   \n...                      ...      ...      ...      ...        ...   \n2023-05-24 07:00:00  26734.2  26734.2  26566.5  26699.9  10417.356   \n2023-05-24 07:15:00  26700.0  26749.5  26673.3  26747.9   6405.009   \n2023-05-24 07:30:00  26748.0  26748.0  26669.0  26699.5   3939.648   \n2023-05-24 07:45:00  26699.4  26706.8  26650.5  26689.9   3817.344   \n2023-05-24 08:00:00  26690.0  26691.1  26672.0  26674.9    693.857   \n\n                     feature_highlow_open  feature_highlow_low   \ntime                                                             \n2023-05-23 07:15:00              0.054107             0.000000  \\\n2023-05-23 07:30:00              0.104085             0.000000   \n2023-05-23 07:45:00              0.140178             0.000000   \n2023-05-23 08:00:00              0.314659             0.169756   \n2023-05-23 08:15:00              0.394271             0.203875   \n...                                   ...                  ...   \n2023-05-24 07:00:00              0.688706             0.000000   \n2023-05-24 07:15:00              0.548255             0.438604   \n2023-05-24 07:30:00              0.745380             0.420945   \n2023-05-24 07:45:00              0.545791             0.344969   \n2023-05-24 08:00:00              0.507187             0.433265   \n\n                     feature_highlow_high  feature_highlow_close   \ntime                                                               \n2023-05-23 07:15:00              0.119112               0.018295  \\\n2023-05-23 07:30:00              0.262522               0.006039   \n2023-05-23 07:45:00              0.161389               0.161082   \n2023-05-23 08:00:00              0.465038               0.394271   \n2023-05-23 08:15:00              0.491997               0.278433   \n...                                   ...                    ...   \n2023-05-24 07:00:00              0.688706               0.547844   \n2023-05-24 07:15:00              0.751540               0.744969   \n2023-05-24 07:30:00              0.745380               0.546201   \n2023-05-24 07:45:00              0.576181               0.506776   \n2023-05-24 08:00:00              0.511704               0.445175   \n\n                     feature_highlow_volume  \ntime                                         \n2023-05-23 07:15:00                0.038881  \n2023-05-23 07:30:00                0.220014  \n2023-05-23 07:45:00                0.051966  \n2023-05-23 08:00:00                0.021607  \n2023-05-23 08:15:00                0.018448  \n...                                     ...  \n2023-05-24 07:00:00                1.000000  \n2023-05-24 07:15:00                0.488675  \n2023-05-24 07:30:00                0.174494  \n2023-05-24 07:45:00                0.158908  \n2023-05-24 08:00:00                0.000000  \n\n[100 rows x 10 columns]",
      "text/html": "<div>\n<style scoped>\n    .dataframe tbody tr th:only-of-type {\n        vertical-align: middle;\n    }\n\n    .dataframe tbody tr th {\n        vertical-align: top;\n    }\n\n    .dataframe thead th {\n        text-align: right;\n    }\n</style>\n<table border=\"1\" class=\"dataframe\">\n  <thead>\n    <tr style=\"text-align: right;\">\n      <th></th>\n      <th>open</th>\n      <th>high</th>\n      <th>low</th>\n      <th>close</th>\n      <th>volume</th>\n      <th>feature_highlow_open</th>\n      <th>feature_highlow_low</th>\n      <th>feature_highlow_high</th>\n      <th>feature_highlow_close</th>\n      <th>feature_highlow_volume</th>\n    </tr>\n    <tr>\n      <th>time</th>\n      <th></th>\n      <th></th>\n      <th></th>\n      <th></th>\n      <th></th>\n      <th></th>\n      <th></th>\n      <th></th>\n      <th></th>\n      <th></th>\n    </tr>\n  </thead>\n  <tbody>\n    <tr>\n      <th>2023-05-23 07:15:00</th>\n      <td>27284.5</td>\n      <td>27301.2</td>\n      <td>27270.6</td>\n      <td>27275.3</td>\n      <td>3306.280</td>\n      <td>0.054107</td>\n      <td>0.000000</td>\n      <td>0.119112</td>\n      <td>0.018295</td>\n      <td>0.038881</td>\n    </tr>\n    <tr>\n      <th>2023-05-23 07:30:00</th>\n      <td>27275.3</td>\n      <td>27319.9</td>\n      <td>27246.0</td>\n      <td>27247.7</td>\n      <td>4640.963</td>\n      <td>0.104085</td>\n      <td>0.000000</td>\n      <td>0.262522</td>\n      <td>0.006039</td>\n      <td>0.220014</td>\n    </tr>\n    <tr>\n      <th>2023-05-23 07:45:00</th>\n      <td>27247.8</td>\n      <td>27254.7</td>\n      <td>27202.2</td>\n      <td>27254.6</td>\n      <td>3402.700</td>\n      <td>0.140178</td>\n      <td>0.000000</td>\n      <td>0.161389</td>\n      <td>0.161082</td>\n      <td>0.051966</td>\n    </tr>\n    <tr>\n      <th>2023-05-23 08:00:00</th>\n      <td>27276.9</td>\n      <td>27312.6</td>\n      <td>27242.5</td>\n      <td>27295.8</td>\n      <td>3171.947</td>\n      <td>0.314659</td>\n      <td>0.169756</td>\n      <td>0.465038</td>\n      <td>0.394271</td>\n      <td>0.021607</td>\n    </tr>\n    <tr>\n      <th>2023-05-23 08:15:00</th>\n      <td>27295.8</td>\n      <td>27319.0</td>\n      <td>27250.6</td>\n      <td>27268.3</td>\n      <td>3149.699</td>\n      <td>0.394271</td>\n      <td>0.203875</td>\n      <td>0.491997</td>\n      <td>0.278433</td>\n      <td>0.018448</td>\n    </tr>\n    <tr>\n      <th>...</th>\n      <td>...</td>\n      <td>...</td>\n      <td>...</td>\n      <td>...</td>\n      <td>...</td>\n      <td>...</td>\n      <td>...</td>\n      <td>...</td>\n      <td>...</td>\n      <td>...</td>\n    </tr>\n    <tr>\n      <th>2023-05-24 07:00:00</th>\n      <td>26734.2</td>\n      <td>26734.2</td>\n      <td>26566.5</td>\n      <td>26699.9</td>\n      <td>10417.356</td>\n      <td>0.688706</td>\n      <td>0.000000</td>\n      <td>0.688706</td>\n      <td>0.547844</td>\n      <td>1.000000</td>\n    </tr>\n    <tr>\n      <th>2023-05-24 07:15:00</th>\n      <td>26700.0</td>\n      <td>26749.5</td>\n      <td>26673.3</td>\n      <td>26747.9</td>\n      <td>6405.009</td>\n      <td>0.548255</td>\n      <td>0.438604</td>\n      <td>0.751540</td>\n      <td>0.744969</td>\n      <td>0.488675</td>\n    </tr>\n    <tr>\n      <th>2023-05-24 07:30:00</th>\n      <td>26748.0</td>\n      <td>26748.0</td>\n      <td>26669.0</td>\n      <td>26699.5</td>\n      <td>3939.648</td>\n      <td>0.745380</td>\n      <td>0.420945</td>\n      <td>0.745380</td>\n      <td>0.546201</td>\n      <td>0.174494</td>\n    </tr>\n    <tr>\n      <th>2023-05-24 07:45:00</th>\n      <td>26699.4</td>\n      <td>26706.8</td>\n      <td>26650.5</td>\n      <td>26689.9</td>\n      <td>3817.344</td>\n      <td>0.545791</td>\n      <td>0.344969</td>\n      <td>0.576181</td>\n      <td>0.506776</td>\n      <td>0.158908</td>\n    </tr>\n    <tr>\n      <th>2023-05-24 08:00:00</th>\n      <td>26690.0</td>\n      <td>26691.1</td>\n      <td>26672.0</td>\n      <td>26674.9</td>\n      <td>693.857</td>\n      <td>0.507187</td>\n      <td>0.433265</td>\n      <td>0.511704</td>\n      <td>0.445175</td>\n      <td>0.000000</td>\n    </tr>\n  </tbody>\n</table>\n<p>100 rows × 10 columns</p>\n</div>"
     },
     "execution_count": 7,
     "metadata": {},
     "output_type": "execute_result"
    }
   ],
   "source": [
    "df = normalization.highlow_ochlv(df,  windows_size = 10)\n",
    "df.tail(100)"
   ],
   "metadata": {
    "collapsed": false
   }
  },
  {
   "cell_type": "code",
   "execution_count": 23,
   "outputs": [],
   "source": [
    "df = load_data()"
   ],
   "metadata": {
    "collapsed": false
   }
  },
  {
   "cell_type": "code",
   "execution_count": 17,
   "outputs": [],
   "source": [
    "from pandas_ta.statistics import zscore, stdev\n",
    "from pandas_ta.overlap import sma\n"
   ],
   "metadata": {
    "collapsed": false
   }
  },
  {
   "cell_type": "code",
   "execution_count": 18,
   "outputs": [],
   "source": [
    "windows_size = 50\n",
    "df['feature_z_close'] = zscore(df['close'], length=windows_size )\n",
    "df['feature_z_open'] = zscore(df['open'], length=windows_size )\n",
    "df['feature_z_high'] = zscore(df['high'], length=windows_size )\n",
    "df['feature_z_low'] = zscore(df['low'], length=windows_size )\n",
    "df['feature_z_volume'] = zscore(df['volume'], length=windows_size )\n",
    "df['feature_z_std_close'] =stdev(df['close'], length=windows_size)\n",
    "df['feature_z_mean_close'] =sma(df['close'], length=windows_size)"
   ],
   "metadata": {
    "collapsed": false
   }
  },
  {
   "cell_type": "code",
   "execution_count": 19,
   "outputs": [
    {
     "data": {
      "text/plain": "                        open     high      low    close     volume   \ntime                                                                 \n2023-05-24 07:00:00  26734.2  26734.2  26566.5  26699.9  10417.356  \\\n2023-05-24 07:15:00  26700.0  26749.5  26673.3  26747.9   6405.009   \n2023-05-24 07:30:00  26748.0  26748.0  26669.0  26699.5   3939.648   \n2023-05-24 07:45:00  26699.4  26706.8  26650.5  26689.9   3817.344   \n2023-05-24 08:00:00  26690.0  26691.1  26672.0  26674.9    693.857   \n\n                     feature_z_close  feature_z_open  feature_z_high   \ntime                                                                   \n2023-05-24 07:00:00        -1.823632       -1.748666       -1.854724  \\\n2023-05-24 07:15:00        -1.502300       -1.823611       -1.680611   \n2023-05-24 07:30:00        -1.658180       -1.501826       -1.604926   \n2023-05-24 07:45:00        -1.620292       -1.659102       -1.719592   \n2023-05-24 08:00:00        -1.608602       -1.620330       -1.703415   \n\n                     feature_z_low  feature_z_volume  feature_z_std_close   \ntime                                                                        \n2023-05-24 07:00:00      -2.209269          1.006904           193.838475  \\\n2023-05-24 07:15:00      -1.606672          0.372340           197.724833   \n2023-05-24 07:30:00      -1.549118         -0.016013           203.129904   \n2023-05-24 07:45:00      -1.557118         -0.029499           207.903306   \n2023-05-24 08:00:00      -1.395182         -0.512453           212.584529   \n\n                     feature_z_mean_close  \ntime                                       \n2023-05-24 07:00:00             27053.390  \n2023-05-24 07:15:00             27044.942  \n2023-05-24 07:30:00             27036.326  \n2023-05-24 07:45:00             27026.764  \n2023-05-24 08:00:00             27016.864  ",
      "text/html": "<div>\n<style scoped>\n    .dataframe tbody tr th:only-of-type {\n        vertical-align: middle;\n    }\n\n    .dataframe tbody tr th {\n        vertical-align: top;\n    }\n\n    .dataframe thead th {\n        text-align: right;\n    }\n</style>\n<table border=\"1\" class=\"dataframe\">\n  <thead>\n    <tr style=\"text-align: right;\">\n      <th></th>\n      <th>open</th>\n      <th>high</th>\n      <th>low</th>\n      <th>close</th>\n      <th>volume</th>\n      <th>feature_z_close</th>\n      <th>feature_z_open</th>\n      <th>feature_z_high</th>\n      <th>feature_z_low</th>\n      <th>feature_z_volume</th>\n      <th>feature_z_std_close</th>\n      <th>feature_z_mean_close</th>\n    </tr>\n    <tr>\n      <th>time</th>\n      <th></th>\n      <th></th>\n      <th></th>\n      <th></th>\n      <th></th>\n      <th></th>\n      <th></th>\n      <th></th>\n      <th></th>\n      <th></th>\n      <th></th>\n      <th></th>\n    </tr>\n  </thead>\n  <tbody>\n    <tr>\n      <th>2023-05-24 07:00:00</th>\n      <td>26734.2</td>\n      <td>26734.2</td>\n      <td>26566.5</td>\n      <td>26699.9</td>\n      <td>10417.356</td>\n      <td>-1.823632</td>\n      <td>-1.748666</td>\n      <td>-1.854724</td>\n      <td>-2.209269</td>\n      <td>1.006904</td>\n      <td>193.838475</td>\n      <td>27053.390</td>\n    </tr>\n    <tr>\n      <th>2023-05-24 07:15:00</th>\n      <td>26700.0</td>\n      <td>26749.5</td>\n      <td>26673.3</td>\n      <td>26747.9</td>\n      <td>6405.009</td>\n      <td>-1.502300</td>\n      <td>-1.823611</td>\n      <td>-1.680611</td>\n      <td>-1.606672</td>\n      <td>0.372340</td>\n      <td>197.724833</td>\n      <td>27044.942</td>\n    </tr>\n    <tr>\n      <th>2023-05-24 07:30:00</th>\n      <td>26748.0</td>\n      <td>26748.0</td>\n      <td>26669.0</td>\n      <td>26699.5</td>\n      <td>3939.648</td>\n      <td>-1.658180</td>\n      <td>-1.501826</td>\n      <td>-1.604926</td>\n      <td>-1.549118</td>\n      <td>-0.016013</td>\n      <td>203.129904</td>\n      <td>27036.326</td>\n    </tr>\n    <tr>\n      <th>2023-05-24 07:45:00</th>\n      <td>26699.4</td>\n      <td>26706.8</td>\n      <td>26650.5</td>\n      <td>26689.9</td>\n      <td>3817.344</td>\n      <td>-1.620292</td>\n      <td>-1.659102</td>\n      <td>-1.719592</td>\n      <td>-1.557118</td>\n      <td>-0.029499</td>\n      <td>207.903306</td>\n      <td>27026.764</td>\n    </tr>\n    <tr>\n      <th>2023-05-24 08:00:00</th>\n      <td>26690.0</td>\n      <td>26691.1</td>\n      <td>26672.0</td>\n      <td>26674.9</td>\n      <td>693.857</td>\n      <td>-1.608602</td>\n      <td>-1.620330</td>\n      <td>-1.703415</td>\n      <td>-1.395182</td>\n      <td>-0.512453</td>\n      <td>212.584529</td>\n      <td>27016.864</td>\n    </tr>\n  </tbody>\n</table>\n</div>"
     },
     "execution_count": 19,
     "metadata": {},
     "output_type": "execute_result"
    }
   ],
   "source": [
    "df.tail()"
   ],
   "metadata": {
    "collapsed": false
   }
  },
  {
   "cell_type": "code",
   "execution_count": 8,
   "outputs": [
    {
     "data": {
      "text/plain": "5.588263493671831"
     },
     "execution_count": 8,
     "metadata": {},
     "output_type": "execute_result"
    }
   ],
   "source": [
    "df['feature_z_close'].max()"
   ],
   "metadata": {
    "collapsed": false
   }
  },
  {
   "cell_type": "code",
   "execution_count": 9,
   "outputs": [
    {
     "data": {
      "text/plain": "-5.361686024013553"
     },
     "execution_count": 9,
     "metadata": {},
     "output_type": "execute_result"
    }
   ],
   "source": [
    "df['feature_z_close'].min()"
   ],
   "metadata": {
    "collapsed": false
   }
  },
  {
   "cell_type": "code",
   "execution_count": 20,
   "outputs": [
    {
     "data": {
      "text/plain": "                        open     high      low    close     volume   \ntime                                                                 \n2023-04-30 15:30:00  29564.1  29877.0  29564.1  29810.7  31339.389  \\\n2023-05-02 14:30:00  28004.6  28544.0  28004.6  28484.6  39822.100   \n2023-05-05 01:45:00  28908.6  29340.0  28908.6  29310.8  29658.870   \n2023-05-20 18:00:00  27017.5  27144.4  26987.2  27130.0  13239.375   \n\n                     feature_z_close  feature_z_open  feature_z_high   \ntime                                                                   \n2023-04-30 15:30:00         5.434386        4.967491        5.089775  \\\n2023-05-02 14:30:00         5.588263       -0.016333        5.385591   \n2023-05-05 01:45:00         5.459181        1.169139        5.449480   \n2023-05-20 18:00:00         5.076672        4.077553        4.806764   \n\n                     feature_z_low  feature_z_volume  feature_z_std_close   \ntime                                                                        \n2023-04-30 15:30:00       5.054421          5.333135           102.903622  \\\n2023-05-02 14:30:00       0.620088          6.248140            83.680378   \n2023-05-05 01:45:00       2.007113          4.164051            86.039282   \n2023-05-20 18:00:00       3.865079          6.248828            47.716303   \n\n                     feature_z_mean_close  \ntime                                       \n2023-04-30 15:30:00             29251.482  \n2023-05-02 14:30:00             28016.972  \n2023-05-05 01:45:00             28841.096  \n2023-05-20 18:00:00             26887.760  ",
      "text/html": "<div>\n<style scoped>\n    .dataframe tbody tr th:only-of-type {\n        vertical-align: middle;\n    }\n\n    .dataframe tbody tr th {\n        vertical-align: top;\n    }\n\n    .dataframe thead th {\n        text-align: right;\n    }\n</style>\n<table border=\"1\" class=\"dataframe\">\n  <thead>\n    <tr style=\"text-align: right;\">\n      <th></th>\n      <th>open</th>\n      <th>high</th>\n      <th>low</th>\n      <th>close</th>\n      <th>volume</th>\n      <th>feature_z_close</th>\n      <th>feature_z_open</th>\n      <th>feature_z_high</th>\n      <th>feature_z_low</th>\n      <th>feature_z_volume</th>\n      <th>feature_z_std_close</th>\n      <th>feature_z_mean_close</th>\n    </tr>\n    <tr>\n      <th>time</th>\n      <th></th>\n      <th></th>\n      <th></th>\n      <th></th>\n      <th></th>\n      <th></th>\n      <th></th>\n      <th></th>\n      <th></th>\n      <th></th>\n      <th></th>\n      <th></th>\n    </tr>\n  </thead>\n  <tbody>\n    <tr>\n      <th>2023-04-30 15:30:00</th>\n      <td>29564.1</td>\n      <td>29877.0</td>\n      <td>29564.1</td>\n      <td>29810.7</td>\n      <td>31339.389</td>\n      <td>5.434386</td>\n      <td>4.967491</td>\n      <td>5.089775</td>\n      <td>5.054421</td>\n      <td>5.333135</td>\n      <td>102.903622</td>\n      <td>29251.482</td>\n    </tr>\n    <tr>\n      <th>2023-05-02 14:30:00</th>\n      <td>28004.6</td>\n      <td>28544.0</td>\n      <td>28004.6</td>\n      <td>28484.6</td>\n      <td>39822.100</td>\n      <td>5.588263</td>\n      <td>-0.016333</td>\n      <td>5.385591</td>\n      <td>0.620088</td>\n      <td>6.248140</td>\n      <td>83.680378</td>\n      <td>28016.972</td>\n    </tr>\n    <tr>\n      <th>2023-05-05 01:45:00</th>\n      <td>28908.6</td>\n      <td>29340.0</td>\n      <td>28908.6</td>\n      <td>29310.8</td>\n      <td>29658.870</td>\n      <td>5.459181</td>\n      <td>1.169139</td>\n      <td>5.449480</td>\n      <td>2.007113</td>\n      <td>4.164051</td>\n      <td>86.039282</td>\n      <td>28841.096</td>\n    </tr>\n    <tr>\n      <th>2023-05-20 18:00:00</th>\n      <td>27017.5</td>\n      <td>27144.4</td>\n      <td>26987.2</td>\n      <td>27130.0</td>\n      <td>13239.375</td>\n      <td>5.076672</td>\n      <td>4.077553</td>\n      <td>4.806764</td>\n      <td>3.865079</td>\n      <td>6.248828</td>\n      <td>47.716303</td>\n      <td>26887.760</td>\n    </tr>\n  </tbody>\n</table>\n</div>"
     },
     "execution_count": 20,
     "metadata": {},
     "output_type": "execute_result"
    }
   ],
   "source": [
    "df[df['feature_z_close']>5].tail()"
   ],
   "metadata": {
    "collapsed": false
   }
  },
  {
   "cell_type": "code",
   "execution_count": 21,
   "outputs": [
    {
     "data": {
      "text/plain": "                        open     high      low    close    volume   \ntime                                                                \n2023-04-13 04:15:00  30057.2  30070.0  30029.6  30060.8  1563.938  \\\n2023-04-13 04:30:00  30060.8  30089.5  30047.2  30077.4  1294.678   \n2023-04-13 04:45:00  30077.0  30097.0  30033.5  30045.9  1933.793   \n2023-04-13 05:00:00  30046.0  30065.7  30031.5  30038.7  1055.751   \n2023-04-13 05:15:00  30038.7  30067.0  30025.4  30025.5  1019.455   \n...                      ...      ...      ...      ...       ...   \n2023-05-01 00:15:00  29223.0  29313.2  29198.2  29280.8  8574.387   \n2023-05-01 00:30:00  29280.7  29305.0  29252.1  29289.9  3585.558   \n2023-05-01 00:45:00  29290.0  29297.5  29268.2  29292.0  2365.554   \n2023-05-01 01:00:00  29292.0  29325.5  29271.3  29303.3  2200.431   \n2023-05-01 01:15:00  29303.3  29303.3  29226.0  29245.8  2160.645   \n\n                     feature_z_close  feature_z_open  feature_z_high   \ntime                                                                   \n2023-04-13 04:15:00              NaN             NaN             NaN  \\\n2023-04-13 04:30:00              NaN             NaN             NaN   \n2023-04-13 04:45:00              NaN             NaN             NaN   \n2023-04-13 05:00:00              NaN             NaN             NaN   \n2023-04-13 05:15:00              NaN             NaN             NaN   \n...                              ...             ...             ...   \n2023-05-01 00:15:00        -0.803977       -1.086732       -0.808128   \n2023-05-01 00:30:00        -0.775681       -0.802064       -0.866948   \n2023-05-01 00:45:00        -0.783260       -0.772693       -0.922917   \n2023-05-01 01:00:00        -0.743536       -0.780752       -0.807453   \n2023-05-01 01:15:00        -1.071139       -0.741025       -0.934238   \n\n                     feature_z_low  feature_z_volume  feature_z_std_close   \ntime                                                                        \n2023-04-13 04:15:00            NaN               NaN                  NaN  \\\n2023-04-13 04:30:00            NaN               NaN                  NaN   \n2023-04-13 04:45:00            NaN               NaN                  NaN   \n2023-04-13 05:00:00            NaN               NaN                  NaN   \n2023-04-13 05:15:00            NaN               NaN                  NaN   \n...                            ...               ...                  ...   \n2023-05-01 00:15:00      -0.974208          0.231698           186.602353   \n2023-05-01 00:30:00      -0.695084         -0.448052           184.392704   \n2023-05-01 00:45:00      -0.621744         -0.616178           182.391638   \n2023-05-01 01:00:00      -0.622087         -0.640190           180.004660   \n2023-05-01 01:15:00      -0.892801         -0.647995           179.244783   \n\n                     feature_z_mean_close  \ntime                                       \n2023-04-13 04:15:00                   NaN  \n2023-04-13 04:30:00                   NaN  \n2023-04-13 04:45:00                   NaN  \n2023-04-13 05:00:00                   NaN  \n2023-04-13 05:15:00                   NaN  \n...                                   ...  \n2023-05-01 00:15:00             29430.824  \n2023-05-01 00:30:00             29432.930  \n2023-05-01 00:45:00             29434.860  \n2023-05-01 01:00:00             29437.140  \n2023-05-01 01:15:00             29437.796  \n\n[1717 rows x 12 columns]",
      "text/html": "<div>\n<style scoped>\n    .dataframe tbody tr th:only-of-type {\n        vertical-align: middle;\n    }\n\n    .dataframe tbody tr th {\n        vertical-align: top;\n    }\n\n    .dataframe thead th {\n        text-align: right;\n    }\n</style>\n<table border=\"1\" class=\"dataframe\">\n  <thead>\n    <tr style=\"text-align: right;\">\n      <th></th>\n      <th>open</th>\n      <th>high</th>\n      <th>low</th>\n      <th>close</th>\n      <th>volume</th>\n      <th>feature_z_close</th>\n      <th>feature_z_open</th>\n      <th>feature_z_high</th>\n      <th>feature_z_low</th>\n      <th>feature_z_volume</th>\n      <th>feature_z_std_close</th>\n      <th>feature_z_mean_close</th>\n    </tr>\n    <tr>\n      <th>time</th>\n      <th></th>\n      <th></th>\n      <th></th>\n      <th></th>\n      <th></th>\n      <th></th>\n      <th></th>\n      <th></th>\n      <th></th>\n      <th></th>\n      <th></th>\n      <th></th>\n    </tr>\n  </thead>\n  <tbody>\n    <tr>\n      <th>2023-04-13 04:15:00</th>\n      <td>30057.2</td>\n      <td>30070.0</td>\n      <td>30029.6</td>\n      <td>30060.8</td>\n      <td>1563.938</td>\n      <td>NaN</td>\n      <td>NaN</td>\n      <td>NaN</td>\n      <td>NaN</td>\n      <td>NaN</td>\n      <td>NaN</td>\n      <td>NaN</td>\n    </tr>\n    <tr>\n      <th>2023-04-13 04:30:00</th>\n      <td>30060.8</td>\n      <td>30089.5</td>\n      <td>30047.2</td>\n      <td>30077.4</td>\n      <td>1294.678</td>\n      <td>NaN</td>\n      <td>NaN</td>\n      <td>NaN</td>\n      <td>NaN</td>\n      <td>NaN</td>\n      <td>NaN</td>\n      <td>NaN</td>\n    </tr>\n    <tr>\n      <th>2023-04-13 04:45:00</th>\n      <td>30077.0</td>\n      <td>30097.0</td>\n      <td>30033.5</td>\n      <td>30045.9</td>\n      <td>1933.793</td>\n      <td>NaN</td>\n      <td>NaN</td>\n      <td>NaN</td>\n      <td>NaN</td>\n      <td>NaN</td>\n      <td>NaN</td>\n      <td>NaN</td>\n    </tr>\n    <tr>\n      <th>2023-04-13 05:00:00</th>\n      <td>30046.0</td>\n      <td>30065.7</td>\n      <td>30031.5</td>\n      <td>30038.7</td>\n      <td>1055.751</td>\n      <td>NaN</td>\n      <td>NaN</td>\n      <td>NaN</td>\n      <td>NaN</td>\n      <td>NaN</td>\n      <td>NaN</td>\n      <td>NaN</td>\n    </tr>\n    <tr>\n      <th>2023-04-13 05:15:00</th>\n      <td>30038.7</td>\n      <td>30067.0</td>\n      <td>30025.4</td>\n      <td>30025.5</td>\n      <td>1019.455</td>\n      <td>NaN</td>\n      <td>NaN</td>\n      <td>NaN</td>\n      <td>NaN</td>\n      <td>NaN</td>\n      <td>NaN</td>\n      <td>NaN</td>\n    </tr>\n    <tr>\n      <th>...</th>\n      <td>...</td>\n      <td>...</td>\n      <td>...</td>\n      <td>...</td>\n      <td>...</td>\n      <td>...</td>\n      <td>...</td>\n      <td>...</td>\n      <td>...</td>\n      <td>...</td>\n      <td>...</td>\n      <td>...</td>\n    </tr>\n    <tr>\n      <th>2023-05-01 00:15:00</th>\n      <td>29223.0</td>\n      <td>29313.2</td>\n      <td>29198.2</td>\n      <td>29280.8</td>\n      <td>8574.387</td>\n      <td>-0.803977</td>\n      <td>-1.086732</td>\n      <td>-0.808128</td>\n      <td>-0.974208</td>\n      <td>0.231698</td>\n      <td>186.602353</td>\n      <td>29430.824</td>\n    </tr>\n    <tr>\n      <th>2023-05-01 00:30:00</th>\n      <td>29280.7</td>\n      <td>29305.0</td>\n      <td>29252.1</td>\n      <td>29289.9</td>\n      <td>3585.558</td>\n      <td>-0.775681</td>\n      <td>-0.802064</td>\n      <td>-0.866948</td>\n      <td>-0.695084</td>\n      <td>-0.448052</td>\n      <td>184.392704</td>\n      <td>29432.930</td>\n    </tr>\n    <tr>\n      <th>2023-05-01 00:45:00</th>\n      <td>29290.0</td>\n      <td>29297.5</td>\n      <td>29268.2</td>\n      <td>29292.0</td>\n      <td>2365.554</td>\n      <td>-0.783260</td>\n      <td>-0.772693</td>\n      <td>-0.922917</td>\n      <td>-0.621744</td>\n      <td>-0.616178</td>\n      <td>182.391638</td>\n      <td>29434.860</td>\n    </tr>\n    <tr>\n      <th>2023-05-01 01:00:00</th>\n      <td>29292.0</td>\n      <td>29325.5</td>\n      <td>29271.3</td>\n      <td>29303.3</td>\n      <td>2200.431</td>\n      <td>-0.743536</td>\n      <td>-0.780752</td>\n      <td>-0.807453</td>\n      <td>-0.622087</td>\n      <td>-0.640190</td>\n      <td>180.004660</td>\n      <td>29437.140</td>\n    </tr>\n    <tr>\n      <th>2023-05-01 01:15:00</th>\n      <td>29303.3</td>\n      <td>29303.3</td>\n      <td>29226.0</td>\n      <td>29245.8</td>\n      <td>2160.645</td>\n      <td>-1.071139</td>\n      <td>-0.741025</td>\n      <td>-0.934238</td>\n      <td>-0.892801</td>\n      <td>-0.647995</td>\n      <td>179.244783</td>\n      <td>29437.796</td>\n    </tr>\n  </tbody>\n</table>\n<p>1717 rows × 12 columns</p>\n</div>"
     },
     "execution_count": 21,
     "metadata": {},
     "output_type": "execute_result"
    }
   ],
   "source": [
    "df[df.index < \"2023-05-01 01:30:00\"]"
   ],
   "metadata": {
    "collapsed": false
   }
  },
  {
   "cell_type": "code",
   "execution_count": 33,
   "outputs": [],
   "source": [
    "\n",
    "def NormalizedScore(df, length=30):\n",
    "    ll = df['low'].rolling(window=length).min()\n",
    "    hh = df['high'].rolling(window=length).max()\n",
    "    vll = df['volume'].rolling(window=length).min()\n",
    "    vhh = df['volume'].rolling(window=length).max()\n",
    "    scale = hh - ll\n",
    "    vscale = vhh - vll\n",
    "\n",
    "    df['feature_normal_open'] = (df['open'] - ll)/scale\n",
    "    df['feature_normal_low'] = (df['low'] - ll) / scale\n",
    "    df['feature_normal_high'] = (df['high'] - ll) / scale\n",
    "    df['feature_normal_close'] = (df['close'] - ll) / scale\n",
    "    df['feature_normal_volume'] = (df['volume']-vll)/vscale\n",
    "    return"
   ],
   "metadata": {
    "collapsed": false
   }
  },
  {
   "cell_type": "code",
   "execution_count": 35,
   "outputs": [
    {
     "data": {
      "text/plain": "                        open     high      low    close     volume\ntime                                                              \n2023-05-24 07:00:00  26734.2  26734.2  26566.5  26699.9  10417.356\n2023-05-24 07:15:00  26700.0  26749.5  26673.3  26747.9   6405.009\n2023-05-24 07:30:00  26748.0  26748.0  26669.0  26699.5   3939.648\n2023-05-24 07:45:00  26699.4  26706.8  26650.5  26689.9   3817.344\n2023-05-24 08:00:00  26690.0  26691.1  26672.0  26674.9    693.857",
      "text/html": "<div>\n<style scoped>\n    .dataframe tbody tr th:only-of-type {\n        vertical-align: middle;\n    }\n\n    .dataframe tbody tr th {\n        vertical-align: top;\n    }\n\n    .dataframe thead th {\n        text-align: right;\n    }\n</style>\n<table border=\"1\" class=\"dataframe\">\n  <thead>\n    <tr style=\"text-align: right;\">\n      <th></th>\n      <th>open</th>\n      <th>high</th>\n      <th>low</th>\n      <th>close</th>\n      <th>volume</th>\n    </tr>\n    <tr>\n      <th>time</th>\n      <th></th>\n      <th></th>\n      <th></th>\n      <th></th>\n      <th></th>\n    </tr>\n  </thead>\n  <tbody>\n    <tr>\n      <th>2023-05-24 07:00:00</th>\n      <td>26734.2</td>\n      <td>26734.2</td>\n      <td>26566.5</td>\n      <td>26699.9</td>\n      <td>10417.356</td>\n    </tr>\n    <tr>\n      <th>2023-05-24 07:15:00</th>\n      <td>26700.0</td>\n      <td>26749.5</td>\n      <td>26673.3</td>\n      <td>26747.9</td>\n      <td>6405.009</td>\n    </tr>\n    <tr>\n      <th>2023-05-24 07:30:00</th>\n      <td>26748.0</td>\n      <td>26748.0</td>\n      <td>26669.0</td>\n      <td>26699.5</td>\n      <td>3939.648</td>\n    </tr>\n    <tr>\n      <th>2023-05-24 07:45:00</th>\n      <td>26699.4</td>\n      <td>26706.8</td>\n      <td>26650.5</td>\n      <td>26689.9</td>\n      <td>3817.344</td>\n    </tr>\n    <tr>\n      <th>2023-05-24 08:00:00</th>\n      <td>26690.0</td>\n      <td>26691.1</td>\n      <td>26672.0</td>\n      <td>26674.9</td>\n      <td>693.857</td>\n    </tr>\n  </tbody>\n</table>\n</div>"
     },
     "execution_count": 35,
     "metadata": {},
     "output_type": "execute_result"
    }
   ],
   "source": [
    "df = load_data()\n",
    "df.tail()"
   ],
   "metadata": {
    "collapsed": false
   }
  },
  {
   "cell_type": "code",
   "execution_count": 36,
   "outputs": [],
   "source": [
    "NormalizedScore(df)"
   ],
   "metadata": {
    "collapsed": false
   }
  },
  {
   "cell_type": "code",
   "execution_count": 37,
   "outputs": [
    {
     "data": {
      "text/plain": "                        open     high      low    close     volume   \ntime                                                                 \n2023-05-24 07:00:00  26734.2  26734.2  26566.5  26699.9  10417.356  \\\n2023-05-24 07:15:00  26700.0  26749.5  26673.3  26747.9   6405.009   \n2023-05-24 07:30:00  26748.0  26748.0  26669.0  26699.5   3939.648   \n2023-05-24 07:45:00  26699.4  26706.8  26650.5  26689.9   3817.344   \n2023-05-24 08:00:00  26690.0  26691.1  26672.0  26674.9    693.857   \n\n                     feature_normal_open  feature_normal_low   \ntime                                                           \n2023-05-24 07:00:00             0.249368            0.000000  \\\n2023-05-24 07:15:00             0.206273            0.165019   \n2023-05-24 07:30:00             0.280786            0.158571   \n2023-05-24 07:45:00             0.206880            0.130760   \n2023-05-24 08:00:00             0.192248            0.164228   \n\n                     feature_normal_high  feature_normal_close   \ntime                                                             \n2023-05-24 07:00:00             0.249368              0.198364  \\\n2023-05-24 07:15:00             0.282756              0.280284   \n2023-05-24 07:30:00             0.280786              0.205755   \n2023-05-24 07:45:00             0.218400              0.192092   \n2023-05-24 08:00:00             0.193960              0.168742   \n\n                     feature_normal_volume  \ntime                                        \n2023-05-24 07:00:00               0.256739  \n2023-05-24 07:15:00               0.153919  \n2023-05-24 07:30:00               0.090741  \n2023-05-24 07:45:00               0.087607  \n2023-05-24 08:00:00               0.007564  ",
      "text/html": "<div>\n<style scoped>\n    .dataframe tbody tr th:only-of-type {\n        vertical-align: middle;\n    }\n\n    .dataframe tbody tr th {\n        vertical-align: top;\n    }\n\n    .dataframe thead th {\n        text-align: right;\n    }\n</style>\n<table border=\"1\" class=\"dataframe\">\n  <thead>\n    <tr style=\"text-align: right;\">\n      <th></th>\n      <th>open</th>\n      <th>high</th>\n      <th>low</th>\n      <th>close</th>\n      <th>volume</th>\n      <th>feature_normal_open</th>\n      <th>feature_normal_low</th>\n      <th>feature_normal_high</th>\n      <th>feature_normal_close</th>\n      <th>feature_normal_volume</th>\n    </tr>\n    <tr>\n      <th>time</th>\n      <th></th>\n      <th></th>\n      <th></th>\n      <th></th>\n      <th></th>\n      <th></th>\n      <th></th>\n      <th></th>\n      <th></th>\n      <th></th>\n    </tr>\n  </thead>\n  <tbody>\n    <tr>\n      <th>2023-05-24 07:00:00</th>\n      <td>26734.2</td>\n      <td>26734.2</td>\n      <td>26566.5</td>\n      <td>26699.9</td>\n      <td>10417.356</td>\n      <td>0.249368</td>\n      <td>0.000000</td>\n      <td>0.249368</td>\n      <td>0.198364</td>\n      <td>0.256739</td>\n    </tr>\n    <tr>\n      <th>2023-05-24 07:15:00</th>\n      <td>26700.0</td>\n      <td>26749.5</td>\n      <td>26673.3</td>\n      <td>26747.9</td>\n      <td>6405.009</td>\n      <td>0.206273</td>\n      <td>0.165019</td>\n      <td>0.282756</td>\n      <td>0.280284</td>\n      <td>0.153919</td>\n    </tr>\n    <tr>\n      <th>2023-05-24 07:30:00</th>\n      <td>26748.0</td>\n      <td>26748.0</td>\n      <td>26669.0</td>\n      <td>26699.5</td>\n      <td>3939.648</td>\n      <td>0.280786</td>\n      <td>0.158571</td>\n      <td>0.280786</td>\n      <td>0.205755</td>\n      <td>0.090741</td>\n    </tr>\n    <tr>\n      <th>2023-05-24 07:45:00</th>\n      <td>26699.4</td>\n      <td>26706.8</td>\n      <td>26650.5</td>\n      <td>26689.9</td>\n      <td>3817.344</td>\n      <td>0.206880</td>\n      <td>0.130760</td>\n      <td>0.218400</td>\n      <td>0.192092</td>\n      <td>0.087607</td>\n    </tr>\n    <tr>\n      <th>2023-05-24 08:00:00</th>\n      <td>26690.0</td>\n      <td>26691.1</td>\n      <td>26672.0</td>\n      <td>26674.9</td>\n      <td>693.857</td>\n      <td>0.192248</td>\n      <td>0.164228</td>\n      <td>0.193960</td>\n      <td>0.168742</td>\n      <td>0.007564</td>\n    </tr>\n  </tbody>\n</table>\n</div>"
     },
     "execution_count": 37,
     "metadata": {},
     "output_type": "execute_result"
    }
   ],
   "source": [
    "df.tail()"
   ],
   "metadata": {
    "collapsed": false
   }
  },
  {
   "cell_type": "code",
   "execution_count": 38,
   "outputs": [
    {
     "data": {
      "text/plain": "                        open     high      low    close     volume   \ntime                                                                 \n2023-04-13 04:15:00  30057.2  30070.0  30029.6  30060.8   1563.938  \\\n2023-04-13 04:30:00  30060.8  30089.5  30047.2  30077.4   1294.678   \n2023-04-13 04:45:00  30077.0  30097.0  30033.5  30045.9   1933.793   \n2023-04-13 05:00:00  30046.0  30065.7  30031.5  30038.7   1055.751   \n2023-04-13 05:15:00  30038.7  30067.0  30025.4  30025.5   1019.455   \n...                      ...      ...      ...      ...        ...   \n2023-05-24 07:00:00  26734.2  26734.2  26566.5  26699.9  10417.356   \n2023-05-24 07:15:00  26700.0  26749.5  26673.3  26747.9   6405.009   \n2023-05-24 07:30:00  26748.0  26748.0  26669.0  26699.5   3939.648   \n2023-05-24 07:45:00  26699.4  26706.8  26650.5  26689.9   3817.344   \n2023-05-24 08:00:00  26690.0  26691.1  26672.0  26674.9    693.857   \n\n                     feature_normal_open  feature_normal_low   \ntime                                                           \n2023-04-13 04:15:00                  NaN                 NaN  \\\n2023-04-13 04:30:00                  NaN                 NaN   \n2023-04-13 04:45:00                  NaN                 NaN   \n2023-04-13 05:00:00                  NaN                 NaN   \n2023-04-13 05:15:00                  NaN                 NaN   \n...                                  ...                 ...   \n2023-05-24 07:00:00             0.249368            0.000000   \n2023-05-24 07:15:00             0.206273            0.165019   \n2023-05-24 07:30:00             0.280786            0.158571   \n2023-05-24 07:45:00             0.206880            0.130760   \n2023-05-24 08:00:00             0.192248            0.164228   \n\n                     feature_normal_high  feature_normal_close   \ntime                                                             \n2023-04-13 04:15:00                  NaN                   NaN  \\\n2023-04-13 04:30:00                  NaN                   NaN   \n2023-04-13 04:45:00                  NaN                   NaN   \n2023-04-13 05:00:00                  NaN                   NaN   \n2023-04-13 05:15:00                  NaN                   NaN   \n...                                  ...                   ...   \n2023-05-24 07:00:00             0.249368              0.198364   \n2023-05-24 07:15:00             0.282756              0.280284   \n2023-05-24 07:30:00             0.280786              0.205755   \n2023-05-24 07:45:00             0.218400              0.192092   \n2023-05-24 08:00:00             0.193960              0.168742   \n\n                     feature_normal_volume  \ntime                                        \n2023-04-13 04:15:00                    NaN  \n2023-04-13 04:30:00                    NaN  \n2023-04-13 04:45:00                    NaN  \n2023-04-13 05:00:00                    NaN  \n2023-04-13 05:15:00                    NaN  \n...                                    ...  \n2023-05-24 07:00:00               0.256739  \n2023-05-24 07:15:00               0.153919  \n2023-05-24 07:30:00               0.090741  \n2023-05-24 07:45:00               0.087607  \n2023-05-24 08:00:00               0.007564  \n\n[3952 rows x 10 columns]",
      "text/html": "<div>\n<style scoped>\n    .dataframe tbody tr th:only-of-type {\n        vertical-align: middle;\n    }\n\n    .dataframe tbody tr th {\n        vertical-align: top;\n    }\n\n    .dataframe thead th {\n        text-align: right;\n    }\n</style>\n<table border=\"1\" class=\"dataframe\">\n  <thead>\n    <tr style=\"text-align: right;\">\n      <th></th>\n      <th>open</th>\n      <th>high</th>\n      <th>low</th>\n      <th>close</th>\n      <th>volume</th>\n      <th>feature_normal_open</th>\n      <th>feature_normal_low</th>\n      <th>feature_normal_high</th>\n      <th>feature_normal_close</th>\n      <th>feature_normal_volume</th>\n    </tr>\n    <tr>\n      <th>time</th>\n      <th></th>\n      <th></th>\n      <th></th>\n      <th></th>\n      <th></th>\n      <th></th>\n      <th></th>\n      <th></th>\n      <th></th>\n      <th></th>\n    </tr>\n  </thead>\n  <tbody>\n    <tr>\n      <th>2023-04-13 04:15:00</th>\n      <td>30057.2</td>\n      <td>30070.0</td>\n      <td>30029.6</td>\n      <td>30060.8</td>\n      <td>1563.938</td>\n      <td>NaN</td>\n      <td>NaN</td>\n      <td>NaN</td>\n      <td>NaN</td>\n      <td>NaN</td>\n    </tr>\n    <tr>\n      <th>2023-04-13 04:30:00</th>\n      <td>30060.8</td>\n      <td>30089.5</td>\n      <td>30047.2</td>\n      <td>30077.4</td>\n      <td>1294.678</td>\n      <td>NaN</td>\n      <td>NaN</td>\n      <td>NaN</td>\n      <td>NaN</td>\n      <td>NaN</td>\n    </tr>\n    <tr>\n      <th>2023-04-13 04:45:00</th>\n      <td>30077.0</td>\n      <td>30097.0</td>\n      <td>30033.5</td>\n      <td>30045.9</td>\n      <td>1933.793</td>\n      <td>NaN</td>\n      <td>NaN</td>\n      <td>NaN</td>\n      <td>NaN</td>\n      <td>NaN</td>\n    </tr>\n    <tr>\n      <th>2023-04-13 05:00:00</th>\n      <td>30046.0</td>\n      <td>30065.7</td>\n      <td>30031.5</td>\n      <td>30038.7</td>\n      <td>1055.751</td>\n      <td>NaN</td>\n      <td>NaN</td>\n      <td>NaN</td>\n      <td>NaN</td>\n      <td>NaN</td>\n    </tr>\n    <tr>\n      <th>2023-04-13 05:15:00</th>\n      <td>30038.7</td>\n      <td>30067.0</td>\n      <td>30025.4</td>\n      <td>30025.5</td>\n      <td>1019.455</td>\n      <td>NaN</td>\n      <td>NaN</td>\n      <td>NaN</td>\n      <td>NaN</td>\n      <td>NaN</td>\n    </tr>\n    <tr>\n      <th>...</th>\n      <td>...</td>\n      <td>...</td>\n      <td>...</td>\n      <td>...</td>\n      <td>...</td>\n      <td>...</td>\n      <td>...</td>\n      <td>...</td>\n      <td>...</td>\n      <td>...</td>\n    </tr>\n    <tr>\n      <th>2023-05-24 07:00:00</th>\n      <td>26734.2</td>\n      <td>26734.2</td>\n      <td>26566.5</td>\n      <td>26699.9</td>\n      <td>10417.356</td>\n      <td>0.249368</td>\n      <td>0.000000</td>\n      <td>0.249368</td>\n      <td>0.198364</td>\n      <td>0.256739</td>\n    </tr>\n    <tr>\n      <th>2023-05-24 07:15:00</th>\n      <td>26700.0</td>\n      <td>26749.5</td>\n      <td>26673.3</td>\n      <td>26747.9</td>\n      <td>6405.009</td>\n      <td>0.206273</td>\n      <td>0.165019</td>\n      <td>0.282756</td>\n      <td>0.280284</td>\n      <td>0.153919</td>\n    </tr>\n    <tr>\n      <th>2023-05-24 07:30:00</th>\n      <td>26748.0</td>\n      <td>26748.0</td>\n      <td>26669.0</td>\n      <td>26699.5</td>\n      <td>3939.648</td>\n      <td>0.280786</td>\n      <td>0.158571</td>\n      <td>0.280786</td>\n      <td>0.205755</td>\n      <td>0.090741</td>\n    </tr>\n    <tr>\n      <th>2023-05-24 07:45:00</th>\n      <td>26699.4</td>\n      <td>26706.8</td>\n      <td>26650.5</td>\n      <td>26689.9</td>\n      <td>3817.344</td>\n      <td>0.206880</td>\n      <td>0.130760</td>\n      <td>0.218400</td>\n      <td>0.192092</td>\n      <td>0.087607</td>\n    </tr>\n    <tr>\n      <th>2023-05-24 08:00:00</th>\n      <td>26690.0</td>\n      <td>26691.1</td>\n      <td>26672.0</td>\n      <td>26674.9</td>\n      <td>693.857</td>\n      <td>0.192248</td>\n      <td>0.164228</td>\n      <td>0.193960</td>\n      <td>0.168742</td>\n      <td>0.007564</td>\n    </tr>\n  </tbody>\n</table>\n<p>3952 rows × 10 columns</p>\n</div>"
     },
     "execution_count": 38,
     "metadata": {},
     "output_type": "execute_result"
    }
   ],
   "source": [
    "df"
   ],
   "metadata": {
    "collapsed": false
   }
  },
  {
   "cell_type": "code",
   "execution_count": 39,
   "outputs": [
    {
     "data": {
      "text/plain": "                        open     high      low    close    volume   \ntime                                                                \n2023-04-13 04:15:00  30057.2  30070.0  30029.6  30060.8  1563.938  \\\n2023-04-13 04:30:00  30060.8  30089.5  30047.2  30077.4  1294.678   \n2023-04-13 04:45:00  30077.0  30097.0  30033.5  30045.9  1933.793   \n2023-04-13 05:00:00  30046.0  30065.7  30031.5  30038.7  1055.751   \n2023-04-13 05:15:00  30038.7  30067.0  30025.4  30025.5  1019.455   \n...                      ...      ...      ...      ...       ...   \n2023-05-01 00:15:00  29223.0  29313.2  29198.2  29280.8  8574.387   \n2023-05-01 00:30:00  29280.7  29305.0  29252.1  29289.9  3585.558   \n2023-05-01 00:45:00  29290.0  29297.5  29268.2  29292.0  2365.554   \n2023-05-01 01:00:00  29292.0  29325.5  29271.3  29303.3  2200.431   \n2023-05-01 01:15:00  29303.3  29303.3  29226.0  29245.8  2160.645   \n\n                     feature_normal_open  feature_normal_low   \ntime                                                           \n2023-04-13 04:15:00                  NaN                 NaN  \\\n2023-04-13 04:30:00                  NaN                 NaN   \n2023-04-13 04:45:00                  NaN                 NaN   \n2023-04-13 05:00:00                  NaN                 NaN   \n2023-04-13 05:15:00                  NaN                 NaN   \n...                                  ...                 ...   \n2023-05-01 00:15:00             0.115162            0.078405   \n2023-05-01 00:30:00             0.200682            0.158293   \n2023-05-01 00:45:00             0.214466            0.182155   \n2023-05-01 01:00:00             0.217430            0.186750   \n2023-05-01 01:15:00             0.259314            0.132447   \n\n                     feature_normal_high  feature_normal_close   \ntime                                                             \n2023-04-13 04:15:00                  NaN                   NaN  \\\n2023-04-13 04:30:00                  NaN                   NaN   \n2023-04-13 04:45:00                  NaN                   NaN   \n2023-04-13 05:00:00                  NaN                   NaN   \n2023-04-13 05:15:00                  NaN                   NaN   \n...                                  ...                   ...   \n2023-05-01 00:15:00             0.248851              0.200830   \n2023-05-01 00:30:00             0.236698              0.214317   \n2023-05-01 00:45:00             0.225582              0.217430   \n2023-05-01 01:00:00             0.267082              0.234178   \n2023-05-01 01:15:00             0.259314              0.164943   \n\n                     feature_normal_volume  \ntime                                        \n2023-04-13 04:15:00                    NaN  \n2023-04-13 04:30:00                    NaN  \n2023-04-13 04:45:00                    NaN  \n2023-04-13 05:00:00                    NaN  \n2023-04-13 05:15:00                    NaN  \n...                                    ...  \n2023-05-01 00:15:00               0.409471  \n2023-05-01 00:30:00               0.142553  \n2023-05-01 00:45:00               0.077279  \n2023-05-01 01:00:00               0.068444  \n2023-05-01 01:15:00               0.066316  \n\n[1717 rows x 10 columns]",
      "text/html": "<div>\n<style scoped>\n    .dataframe tbody tr th:only-of-type {\n        vertical-align: middle;\n    }\n\n    .dataframe tbody tr th {\n        vertical-align: top;\n    }\n\n    .dataframe thead th {\n        text-align: right;\n    }\n</style>\n<table border=\"1\" class=\"dataframe\">\n  <thead>\n    <tr style=\"text-align: right;\">\n      <th></th>\n      <th>open</th>\n      <th>high</th>\n      <th>low</th>\n      <th>close</th>\n      <th>volume</th>\n      <th>feature_normal_open</th>\n      <th>feature_normal_low</th>\n      <th>feature_normal_high</th>\n      <th>feature_normal_close</th>\n      <th>feature_normal_volume</th>\n    </tr>\n    <tr>\n      <th>time</th>\n      <th></th>\n      <th></th>\n      <th></th>\n      <th></th>\n      <th></th>\n      <th></th>\n      <th></th>\n      <th></th>\n      <th></th>\n      <th></th>\n    </tr>\n  </thead>\n  <tbody>\n    <tr>\n      <th>2023-04-13 04:15:00</th>\n      <td>30057.2</td>\n      <td>30070.0</td>\n      <td>30029.6</td>\n      <td>30060.8</td>\n      <td>1563.938</td>\n      <td>NaN</td>\n      <td>NaN</td>\n      <td>NaN</td>\n      <td>NaN</td>\n      <td>NaN</td>\n    </tr>\n    <tr>\n      <th>2023-04-13 04:30:00</th>\n      <td>30060.8</td>\n      <td>30089.5</td>\n      <td>30047.2</td>\n      <td>30077.4</td>\n      <td>1294.678</td>\n      <td>NaN</td>\n      <td>NaN</td>\n      <td>NaN</td>\n      <td>NaN</td>\n      <td>NaN</td>\n    </tr>\n    <tr>\n      <th>2023-04-13 04:45:00</th>\n      <td>30077.0</td>\n      <td>30097.0</td>\n      <td>30033.5</td>\n      <td>30045.9</td>\n      <td>1933.793</td>\n      <td>NaN</td>\n      <td>NaN</td>\n      <td>NaN</td>\n      <td>NaN</td>\n      <td>NaN</td>\n    </tr>\n    <tr>\n      <th>2023-04-13 05:00:00</th>\n      <td>30046.0</td>\n      <td>30065.7</td>\n      <td>30031.5</td>\n      <td>30038.7</td>\n      <td>1055.751</td>\n      <td>NaN</td>\n      <td>NaN</td>\n      <td>NaN</td>\n      <td>NaN</td>\n      <td>NaN</td>\n    </tr>\n    <tr>\n      <th>2023-04-13 05:15:00</th>\n      <td>30038.7</td>\n      <td>30067.0</td>\n      <td>30025.4</td>\n      <td>30025.5</td>\n      <td>1019.455</td>\n      <td>NaN</td>\n      <td>NaN</td>\n      <td>NaN</td>\n      <td>NaN</td>\n      <td>NaN</td>\n    </tr>\n    <tr>\n      <th>...</th>\n      <td>...</td>\n      <td>...</td>\n      <td>...</td>\n      <td>...</td>\n      <td>...</td>\n      <td>...</td>\n      <td>...</td>\n      <td>...</td>\n      <td>...</td>\n      <td>...</td>\n    </tr>\n    <tr>\n      <th>2023-05-01 00:15:00</th>\n      <td>29223.0</td>\n      <td>29313.2</td>\n      <td>29198.2</td>\n      <td>29280.8</td>\n      <td>8574.387</td>\n      <td>0.115162</td>\n      <td>0.078405</td>\n      <td>0.248851</td>\n      <td>0.200830</td>\n      <td>0.409471</td>\n    </tr>\n    <tr>\n      <th>2023-05-01 00:30:00</th>\n      <td>29280.7</td>\n      <td>29305.0</td>\n      <td>29252.1</td>\n      <td>29289.9</td>\n      <td>3585.558</td>\n      <td>0.200682</td>\n      <td>0.158293</td>\n      <td>0.236698</td>\n      <td>0.214317</td>\n      <td>0.142553</td>\n    </tr>\n    <tr>\n      <th>2023-05-01 00:45:00</th>\n      <td>29290.0</td>\n      <td>29297.5</td>\n      <td>29268.2</td>\n      <td>29292.0</td>\n      <td>2365.554</td>\n      <td>0.214466</td>\n      <td>0.182155</td>\n      <td>0.225582</td>\n      <td>0.217430</td>\n      <td>0.077279</td>\n    </tr>\n    <tr>\n      <th>2023-05-01 01:00:00</th>\n      <td>29292.0</td>\n      <td>29325.5</td>\n      <td>29271.3</td>\n      <td>29303.3</td>\n      <td>2200.431</td>\n      <td>0.217430</td>\n      <td>0.186750</td>\n      <td>0.267082</td>\n      <td>0.234178</td>\n      <td>0.068444</td>\n    </tr>\n    <tr>\n      <th>2023-05-01 01:15:00</th>\n      <td>29303.3</td>\n      <td>29303.3</td>\n      <td>29226.0</td>\n      <td>29245.8</td>\n      <td>2160.645</td>\n      <td>0.259314</td>\n      <td>0.132447</td>\n      <td>0.259314</td>\n      <td>0.164943</td>\n      <td>0.066316</td>\n    </tr>\n  </tbody>\n</table>\n<p>1717 rows × 10 columns</p>\n</div>"
     },
     "execution_count": 39,
     "metadata": {},
     "output_type": "execute_result"
    }
   ],
   "source": [
    "df[df.index < \"2023-05-01 01:30:00\"]"
   ],
   "metadata": {
    "collapsed": false
   }
  },
  {
   "cell_type": "code",
   "execution_count": 41,
   "outputs": [
    {
     "name": "stdout",
     "output_type": "stream",
     "text": [
      "   value  cum_max  cum_min\n",
      "0      1        1        1\n",
      "1      3        3        1\n",
      "2      7        7        1\n",
      "3      1        7        1\n",
      "4      2        7        1\n",
      "5      6        7        1\n",
      "6      8        8        1\n",
      "7      4        8        1\n",
      "8      9        9        1\n",
      "9      5        9        1\n"
     ]
    }
   ],
   "source": [
    "import pandas as pd\n",
    "\n",
    "# 创建一个示例数据框\n",
    "data = {'value': [1, 3, 7, 1, 2, 6, 8, 4, 9, 5]}\n",
    "df = pd.DataFrame(data)\n",
    "\n",
    "# 计算到当前数据为止的最大值\n",
    "df['cum_max'] = df['value'].cummax()\n",
    "df['cum_min'] = df['value'].cummin()\n",
    "# 打印结果\n",
    "print(df)"
   ],
   "metadata": {
    "collapsed": false
   }
  },
  {
   "cell_type": "code",
   "execution_count": 46,
   "outputs": [],
   "source": [
    "import numpy as np\n",
    "def logged_diff(df):\n",
    "    for column in [\"open\",\"close\", \"high\", \"low\", \"volume\"]:\n",
    "        ld =  np.log(df[column]) - np.log(df[column].shift(1))\n",
    "        cum_max = ld.cummax()\n",
    "        cum_min = ld.cummin()\n",
    "        df[\"feature_logged_diff_\" + column] = (ld - cum_min) / (cum_max - cum_min)\n",
    "    return df"
   ],
   "metadata": {
    "collapsed": false
   }
  },
  {
   "cell_type": "code",
   "execution_count": 47,
   "outputs": [
    {
     "data": {
      "text/plain": "                        open     high      low    close     volume\ntime                                                              \n2023-05-24 07:00:00  26734.2  26734.2  26566.5  26699.9  10417.356\n2023-05-24 07:15:00  26700.0  26749.5  26673.3  26747.9   6405.009\n2023-05-24 07:30:00  26748.0  26748.0  26669.0  26699.5   3939.648\n2023-05-24 07:45:00  26699.4  26706.8  26650.5  26689.9   3817.344\n2023-05-24 08:00:00  26690.0  26691.1  26672.0  26674.9    693.857",
      "text/html": "<div>\n<style scoped>\n    .dataframe tbody tr th:only-of-type {\n        vertical-align: middle;\n    }\n\n    .dataframe tbody tr th {\n        vertical-align: top;\n    }\n\n    .dataframe thead th {\n        text-align: right;\n    }\n</style>\n<table border=\"1\" class=\"dataframe\">\n  <thead>\n    <tr style=\"text-align: right;\">\n      <th></th>\n      <th>open</th>\n      <th>high</th>\n      <th>low</th>\n      <th>close</th>\n      <th>volume</th>\n    </tr>\n    <tr>\n      <th>time</th>\n      <th></th>\n      <th></th>\n      <th></th>\n      <th></th>\n      <th></th>\n    </tr>\n  </thead>\n  <tbody>\n    <tr>\n      <th>2023-05-24 07:00:00</th>\n      <td>26734.2</td>\n      <td>26734.2</td>\n      <td>26566.5</td>\n      <td>26699.9</td>\n      <td>10417.356</td>\n    </tr>\n    <tr>\n      <th>2023-05-24 07:15:00</th>\n      <td>26700.0</td>\n      <td>26749.5</td>\n      <td>26673.3</td>\n      <td>26747.9</td>\n      <td>6405.009</td>\n    </tr>\n    <tr>\n      <th>2023-05-24 07:30:00</th>\n      <td>26748.0</td>\n      <td>26748.0</td>\n      <td>26669.0</td>\n      <td>26699.5</td>\n      <td>3939.648</td>\n    </tr>\n    <tr>\n      <th>2023-05-24 07:45:00</th>\n      <td>26699.4</td>\n      <td>26706.8</td>\n      <td>26650.5</td>\n      <td>26689.9</td>\n      <td>3817.344</td>\n    </tr>\n    <tr>\n      <th>2023-05-24 08:00:00</th>\n      <td>26690.0</td>\n      <td>26691.1</td>\n      <td>26672.0</td>\n      <td>26674.9</td>\n      <td>693.857</td>\n    </tr>\n  </tbody>\n</table>\n</div>"
     },
     "execution_count": 47,
     "metadata": {},
     "output_type": "execute_result"
    }
   ],
   "source": [
    "df = load_data()\n",
    "df.tail()"
   ],
   "metadata": {
    "collapsed": false
   }
  },
  {
   "cell_type": "code",
   "execution_count": 48,
   "outputs": [
    {
     "data": {
      "text/plain": "                        open     high      low    close     volume   \ntime                                                                 \n2023-05-24 07:00:00  26734.2  26734.2  26566.5  26699.9  10417.356  \\\n2023-05-24 07:15:00  26700.0  26749.5  26673.3  26747.9   6405.009   \n2023-05-24 07:30:00  26748.0  26748.0  26669.0  26699.5   3939.648   \n2023-05-24 07:45:00  26699.4  26706.8  26650.5  26689.9   3817.344   \n2023-05-24 08:00:00  26690.0  26691.1  26672.0  26674.9    693.857   \n\n                     feature_logged_diff_open  feature_logged_diff_close   \ntime                                                                       \n2023-05-24 07:00:00                  0.497019                   0.471697  \\\n2023-05-24 07:15:00                  0.471763                   0.525823   \n2023-05-24 07:30:00                  0.525823                   0.462431   \n2023-05-24 07:45:00                  0.462299                   0.487939   \n2023-05-24 08:00:00                  0.488070                   0.484379   \n\n                     feature_logged_diff_high  feature_logged_diff_low   \ntime                                                                     \n2023-05-24 07:00:00                  0.480607                 0.600405  \\\n2023-05-24 07:15:00                  0.500475                 0.751810   \n2023-05-24 07:30:00                  0.489946                 0.683330   \n2023-05-24 07:45:00                  0.465049                 0.674589   \n2023-05-24 08:00:00                  0.481030                 0.699208   \n\n                     feature_logged_diff_volume  \ntime                                             \n2023-05-24 07:00:00                    0.667875  \n2023-05-24 07:15:00                    0.340432  \n2023-05-24 07:30:00                    0.340502  \n2023-05-24 07:45:00                    0.419411  \n2023-05-24 08:00:00                    0.128831  ",
      "text/html": "<div>\n<style scoped>\n    .dataframe tbody tr th:only-of-type {\n        vertical-align: middle;\n    }\n\n    .dataframe tbody tr th {\n        vertical-align: top;\n    }\n\n    .dataframe thead th {\n        text-align: right;\n    }\n</style>\n<table border=\"1\" class=\"dataframe\">\n  <thead>\n    <tr style=\"text-align: right;\">\n      <th></th>\n      <th>open</th>\n      <th>high</th>\n      <th>low</th>\n      <th>close</th>\n      <th>volume</th>\n      <th>feature_logged_diff_open</th>\n      <th>feature_logged_diff_close</th>\n      <th>feature_logged_diff_high</th>\n      <th>feature_logged_diff_low</th>\n      <th>feature_logged_diff_volume</th>\n    </tr>\n    <tr>\n      <th>time</th>\n      <th></th>\n      <th></th>\n      <th></th>\n      <th></th>\n      <th></th>\n      <th></th>\n      <th></th>\n      <th></th>\n      <th></th>\n      <th></th>\n    </tr>\n  </thead>\n  <tbody>\n    <tr>\n      <th>2023-05-24 07:00:00</th>\n      <td>26734.2</td>\n      <td>26734.2</td>\n      <td>26566.5</td>\n      <td>26699.9</td>\n      <td>10417.356</td>\n      <td>0.497019</td>\n      <td>0.471697</td>\n      <td>0.480607</td>\n      <td>0.600405</td>\n      <td>0.667875</td>\n    </tr>\n    <tr>\n      <th>2023-05-24 07:15:00</th>\n      <td>26700.0</td>\n      <td>26749.5</td>\n      <td>26673.3</td>\n      <td>26747.9</td>\n      <td>6405.009</td>\n      <td>0.471763</td>\n      <td>0.525823</td>\n      <td>0.500475</td>\n      <td>0.751810</td>\n      <td>0.340432</td>\n    </tr>\n    <tr>\n      <th>2023-05-24 07:30:00</th>\n      <td>26748.0</td>\n      <td>26748.0</td>\n      <td>26669.0</td>\n      <td>26699.5</td>\n      <td>3939.648</td>\n      <td>0.525823</td>\n      <td>0.462431</td>\n      <td>0.489946</td>\n      <td>0.683330</td>\n      <td>0.340502</td>\n    </tr>\n    <tr>\n      <th>2023-05-24 07:45:00</th>\n      <td>26699.4</td>\n      <td>26706.8</td>\n      <td>26650.5</td>\n      <td>26689.9</td>\n      <td>3817.344</td>\n      <td>0.462299</td>\n      <td>0.487939</td>\n      <td>0.465049</td>\n      <td>0.674589</td>\n      <td>0.419411</td>\n    </tr>\n    <tr>\n      <th>2023-05-24 08:00:00</th>\n      <td>26690.0</td>\n      <td>26691.1</td>\n      <td>26672.0</td>\n      <td>26674.9</td>\n      <td>693.857</td>\n      <td>0.488070</td>\n      <td>0.484379</td>\n      <td>0.481030</td>\n      <td>0.699208</td>\n      <td>0.128831</td>\n    </tr>\n  </tbody>\n</table>\n</div>"
     },
     "execution_count": 48,
     "metadata": {},
     "output_type": "execute_result"
    }
   ],
   "source": [
    "df = logged_diff(df)\n",
    "df.tail()"
   ],
   "metadata": {
    "collapsed": false
   }
  },
  {
   "cell_type": "code",
   "execution_count": 49,
   "outputs": [
    {
     "data": {
      "text/plain": "                        open     high      low    close    volume   \ntime                                                                \n2023-04-13 04:15:00  30057.2  30070.0  30029.6  30060.8  1563.938  \\\n2023-04-13 04:30:00  30060.8  30089.5  30047.2  30077.4  1294.678   \n2023-04-13 04:45:00  30077.0  30097.0  30033.5  30045.9  1933.793   \n2023-04-13 05:00:00  30046.0  30065.7  30031.5  30038.7  1055.751   \n2023-04-13 05:15:00  30038.7  30067.0  30025.4  30025.5  1019.455   \n\n                     feature_logged_diff_open  feature_logged_diff_close   \ntime                                                                       \n2023-04-13 04:15:00                       NaN                        NaN  \\\n2023-04-13 04:30:00                       NaN                        NaN   \n2023-04-13 04:45:00                  1.000000                   0.000000   \n2023-04-13 05:00:00                  0.000000                   0.505144   \n2023-04-13 05:15:00                  0.502062                   0.380220   \n\n                     feature_logged_diff_high  feature_logged_diff_low   \ntime                                                                     \n2023-04-13 04:15:00                       NaN                      NaN  \\\n2023-04-13 04:30:00                       NaN                      NaN   \n2023-04-13 04:45:00                  0.000000                 0.000000   \n2023-04-13 05:00:00                  0.000000                 0.373772   \n2023-04-13 05:15:00                  0.641732                 0.242725   \n\n                     feature_logged_diff_volume  \ntime                                             \n2023-04-13 04:15:00                         NaN  \n2023-04-13 04:30:00                         NaN  \n2023-04-13 04:45:00                    1.000000  \n2023-04-13 05:00:00                    0.000000  \n2023-04-13 05:15:00                    0.566591  ",
      "text/html": "<div>\n<style scoped>\n    .dataframe tbody tr th:only-of-type {\n        vertical-align: middle;\n    }\n\n    .dataframe tbody tr th {\n        vertical-align: top;\n    }\n\n    .dataframe thead th {\n        text-align: right;\n    }\n</style>\n<table border=\"1\" class=\"dataframe\">\n  <thead>\n    <tr style=\"text-align: right;\">\n      <th></th>\n      <th>open</th>\n      <th>high</th>\n      <th>low</th>\n      <th>close</th>\n      <th>volume</th>\n      <th>feature_logged_diff_open</th>\n      <th>feature_logged_diff_close</th>\n      <th>feature_logged_diff_high</th>\n      <th>feature_logged_diff_low</th>\n      <th>feature_logged_diff_volume</th>\n    </tr>\n    <tr>\n      <th>time</th>\n      <th></th>\n      <th></th>\n      <th></th>\n      <th></th>\n      <th></th>\n      <th></th>\n      <th></th>\n      <th></th>\n      <th></th>\n      <th></th>\n    </tr>\n  </thead>\n  <tbody>\n    <tr>\n      <th>2023-04-13 04:15:00</th>\n      <td>30057.2</td>\n      <td>30070.0</td>\n      <td>30029.6</td>\n      <td>30060.8</td>\n      <td>1563.938</td>\n      <td>NaN</td>\n      <td>NaN</td>\n      <td>NaN</td>\n      <td>NaN</td>\n      <td>NaN</td>\n    </tr>\n    <tr>\n      <th>2023-04-13 04:30:00</th>\n      <td>30060.8</td>\n      <td>30089.5</td>\n      <td>30047.2</td>\n      <td>30077.4</td>\n      <td>1294.678</td>\n      <td>NaN</td>\n      <td>NaN</td>\n      <td>NaN</td>\n      <td>NaN</td>\n      <td>NaN</td>\n    </tr>\n    <tr>\n      <th>2023-04-13 04:45:00</th>\n      <td>30077.0</td>\n      <td>30097.0</td>\n      <td>30033.5</td>\n      <td>30045.9</td>\n      <td>1933.793</td>\n      <td>1.000000</td>\n      <td>0.000000</td>\n      <td>0.000000</td>\n      <td>0.000000</td>\n      <td>1.000000</td>\n    </tr>\n    <tr>\n      <th>2023-04-13 05:00:00</th>\n      <td>30046.0</td>\n      <td>30065.7</td>\n      <td>30031.5</td>\n      <td>30038.7</td>\n      <td>1055.751</td>\n      <td>0.000000</td>\n      <td>0.505144</td>\n      <td>0.000000</td>\n      <td>0.373772</td>\n      <td>0.000000</td>\n    </tr>\n    <tr>\n      <th>2023-04-13 05:15:00</th>\n      <td>30038.7</td>\n      <td>30067.0</td>\n      <td>30025.4</td>\n      <td>30025.5</td>\n      <td>1019.455</td>\n      <td>0.502062</td>\n      <td>0.380220</td>\n      <td>0.641732</td>\n      <td>0.242725</td>\n      <td>0.566591</td>\n    </tr>\n  </tbody>\n</table>\n</div>"
     },
     "execution_count": 49,
     "metadata": {},
     "output_type": "execute_result"
    }
   ],
   "source": [
    "df.head()"
   ],
   "metadata": {
    "collapsed": false
   }
  },
  {
   "cell_type": "code",
   "execution_count": 50,
   "outputs": [
    {
     "data": {
      "text/plain": "                        open     high      low    close     volume   \ntime                                                                 \n2023-04-13 04:15:00  30057.2  30070.0  30029.6  30060.8   1563.938  \\\n2023-04-13 04:30:00  30060.8  30089.5  30047.2  30077.4   1294.678   \n2023-04-13 04:45:00  30077.0  30097.0  30033.5  30045.9   1933.793   \n2023-04-13 05:00:00  30046.0  30065.7  30031.5  30038.7   1055.751   \n2023-04-13 05:15:00  30038.7  30067.0  30025.4  30025.5   1019.455   \n...                      ...      ...      ...      ...        ...   \n2023-05-24 07:00:00  26734.2  26734.2  26566.5  26699.9  10417.356   \n2023-05-24 07:15:00  26700.0  26749.5  26673.3  26747.9   6405.009   \n2023-05-24 07:30:00  26748.0  26748.0  26669.0  26699.5   3939.648   \n2023-05-24 07:45:00  26699.4  26706.8  26650.5  26689.9   3817.344   \n2023-05-24 08:00:00  26690.0  26691.1  26672.0  26674.9    693.857   \n\n                     feature_logged_diff_open  feature_logged_diff_close   \ntime                                                                       \n2023-04-13 04:15:00                       NaN                        NaN  \\\n2023-04-13 04:30:00                       NaN                        NaN   \n2023-04-13 04:45:00                  1.000000                   0.000000   \n2023-04-13 05:00:00                  0.000000                   0.505144   \n2023-04-13 05:15:00                  0.502062                   0.380220   \n...                                       ...                        ...   \n2023-05-24 07:00:00                  0.497019                   0.471697   \n2023-05-24 07:15:00                  0.471763                   0.525823   \n2023-05-24 07:30:00                  0.525823                   0.462431   \n2023-05-24 07:45:00                  0.462299                   0.487939   \n2023-05-24 08:00:00                  0.488070                   0.484379   \n\n                     feature_logged_diff_high  feature_logged_diff_low   \ntime                                                                     \n2023-04-13 04:15:00                       NaN                      NaN  \\\n2023-04-13 04:30:00                       NaN                      NaN   \n2023-04-13 04:45:00                  0.000000                 0.000000   \n2023-04-13 05:00:00                  0.000000                 0.373772   \n2023-04-13 05:15:00                  0.641732                 0.242725   \n...                                       ...                      ...   \n2023-05-24 07:00:00                  0.480607                 0.600405   \n2023-05-24 07:15:00                  0.500475                 0.751810   \n2023-05-24 07:30:00                  0.489946                 0.683330   \n2023-05-24 07:45:00                  0.465049                 0.674589   \n2023-05-24 08:00:00                  0.481030                 0.699208   \n\n                     feature_logged_diff_volume  \ntime                                             \n2023-04-13 04:15:00                         NaN  \n2023-04-13 04:30:00                         NaN  \n2023-04-13 04:45:00                    1.000000  \n2023-04-13 05:00:00                    0.000000  \n2023-04-13 05:15:00                    0.566591  \n...                                         ...  \n2023-05-24 07:00:00                    0.667875  \n2023-05-24 07:15:00                    0.340432  \n2023-05-24 07:30:00                    0.340502  \n2023-05-24 07:45:00                    0.419411  \n2023-05-24 08:00:00                    0.128831  \n\n[3952 rows x 10 columns]",
      "text/html": "<div>\n<style scoped>\n    .dataframe tbody tr th:only-of-type {\n        vertical-align: middle;\n    }\n\n    .dataframe tbody tr th {\n        vertical-align: top;\n    }\n\n    .dataframe thead th {\n        text-align: right;\n    }\n</style>\n<table border=\"1\" class=\"dataframe\">\n  <thead>\n    <tr style=\"text-align: right;\">\n      <th></th>\n      <th>open</th>\n      <th>high</th>\n      <th>low</th>\n      <th>close</th>\n      <th>volume</th>\n      <th>feature_logged_diff_open</th>\n      <th>feature_logged_diff_close</th>\n      <th>feature_logged_diff_high</th>\n      <th>feature_logged_diff_low</th>\n      <th>feature_logged_diff_volume</th>\n    </tr>\n    <tr>\n      <th>time</th>\n      <th></th>\n      <th></th>\n      <th></th>\n      <th></th>\n      <th></th>\n      <th></th>\n      <th></th>\n      <th></th>\n      <th></th>\n      <th></th>\n    </tr>\n  </thead>\n  <tbody>\n    <tr>\n      <th>2023-04-13 04:15:00</th>\n      <td>30057.2</td>\n      <td>30070.0</td>\n      <td>30029.6</td>\n      <td>30060.8</td>\n      <td>1563.938</td>\n      <td>NaN</td>\n      <td>NaN</td>\n      <td>NaN</td>\n      <td>NaN</td>\n      <td>NaN</td>\n    </tr>\n    <tr>\n      <th>2023-04-13 04:30:00</th>\n      <td>30060.8</td>\n      <td>30089.5</td>\n      <td>30047.2</td>\n      <td>30077.4</td>\n      <td>1294.678</td>\n      <td>NaN</td>\n      <td>NaN</td>\n      <td>NaN</td>\n      <td>NaN</td>\n      <td>NaN</td>\n    </tr>\n    <tr>\n      <th>2023-04-13 04:45:00</th>\n      <td>30077.0</td>\n      <td>30097.0</td>\n      <td>30033.5</td>\n      <td>30045.9</td>\n      <td>1933.793</td>\n      <td>1.000000</td>\n      <td>0.000000</td>\n      <td>0.000000</td>\n      <td>0.000000</td>\n      <td>1.000000</td>\n    </tr>\n    <tr>\n      <th>2023-04-13 05:00:00</th>\n      <td>30046.0</td>\n      <td>30065.7</td>\n      <td>30031.5</td>\n      <td>30038.7</td>\n      <td>1055.751</td>\n      <td>0.000000</td>\n      <td>0.505144</td>\n      <td>0.000000</td>\n      <td>0.373772</td>\n      <td>0.000000</td>\n    </tr>\n    <tr>\n      <th>2023-04-13 05:15:00</th>\n      <td>30038.7</td>\n      <td>30067.0</td>\n      <td>30025.4</td>\n      <td>30025.5</td>\n      <td>1019.455</td>\n      <td>0.502062</td>\n      <td>0.380220</td>\n      <td>0.641732</td>\n      <td>0.242725</td>\n      <td>0.566591</td>\n    </tr>\n    <tr>\n      <th>...</th>\n      <td>...</td>\n      <td>...</td>\n      <td>...</td>\n      <td>...</td>\n      <td>...</td>\n      <td>...</td>\n      <td>...</td>\n      <td>...</td>\n      <td>...</td>\n      <td>...</td>\n    </tr>\n    <tr>\n      <th>2023-05-24 07:00:00</th>\n      <td>26734.2</td>\n      <td>26734.2</td>\n      <td>26566.5</td>\n      <td>26699.9</td>\n      <td>10417.356</td>\n      <td>0.497019</td>\n      <td>0.471697</td>\n      <td>0.480607</td>\n      <td>0.600405</td>\n      <td>0.667875</td>\n    </tr>\n    <tr>\n      <th>2023-05-24 07:15:00</th>\n      <td>26700.0</td>\n      <td>26749.5</td>\n      <td>26673.3</td>\n      <td>26747.9</td>\n      <td>6405.009</td>\n      <td>0.471763</td>\n      <td>0.525823</td>\n      <td>0.500475</td>\n      <td>0.751810</td>\n      <td>0.340432</td>\n    </tr>\n    <tr>\n      <th>2023-05-24 07:30:00</th>\n      <td>26748.0</td>\n      <td>26748.0</td>\n      <td>26669.0</td>\n      <td>26699.5</td>\n      <td>3939.648</td>\n      <td>0.525823</td>\n      <td>0.462431</td>\n      <td>0.489946</td>\n      <td>0.683330</td>\n      <td>0.340502</td>\n    </tr>\n    <tr>\n      <th>2023-05-24 07:45:00</th>\n      <td>26699.4</td>\n      <td>26706.8</td>\n      <td>26650.5</td>\n      <td>26689.9</td>\n      <td>3817.344</td>\n      <td>0.462299</td>\n      <td>0.487939</td>\n      <td>0.465049</td>\n      <td>0.674589</td>\n      <td>0.419411</td>\n    </tr>\n    <tr>\n      <th>2023-05-24 08:00:00</th>\n      <td>26690.0</td>\n      <td>26691.1</td>\n      <td>26672.0</td>\n      <td>26674.9</td>\n      <td>693.857</td>\n      <td>0.488070</td>\n      <td>0.484379</td>\n      <td>0.481030</td>\n      <td>0.699208</td>\n      <td>0.128831</td>\n    </tr>\n  </tbody>\n</table>\n<p>3952 rows × 10 columns</p>\n</div>"
     },
     "execution_count": 50,
     "metadata": {},
     "output_type": "execute_result"
    }
   ],
   "source": [
    "df"
   ],
   "metadata": {
    "collapsed": false
   }
  },
  {
   "cell_type": "code",
   "execution_count": null,
   "outputs": [],
   "source": [],
   "metadata": {
    "collapsed": false
   }
  }
 ],
 "metadata": {
  "kernelspec": {
   "display_name": "Python 3",
   "language": "python",
   "name": "python3"
  },
  "language_info": {
   "codemirror_mode": {
    "name": "ipython",
    "version": 2
   },
   "file_extension": ".py",
   "mimetype": "text/x-python",
   "name": "python",
   "nbconvert_exporter": "python",
   "pygments_lexer": "ipython2",
   "version": "2.7.6"
  }
 },
 "nbformat": 4,
 "nbformat_minor": 0
}
