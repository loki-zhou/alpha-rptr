{
 "cells": [
  {
   "cell_type": "code",
   "execution_count": 1,
   "metadata": {
    "collapsed": true
   },
   "outputs": [],
   "source": [
    "import numpy as np\n",
    "import pandas as pd\n",
    "\n"
   ]
  },
  {
   "cell_type": "code",
   "execution_count": 2,
   "outputs": [
    {
     "name": "stdout",
     "output_type": "stream",
     "text": [
      "   factor  factor_zscore  factor_minmax  factor_ma  factor_log\n",
      "0     1.0      -1.386334       0.000000        NaN    0.000000\n",
      "1     2.0      -1.074409       0.111111        NaN    0.693147\n",
      "2     3.0      -0.762484       0.222222        NaN    1.098612\n",
      "3     4.0      -0.450559       0.333333        NaN    1.386294\n",
      "4     5.0      -0.138633       0.444444        3.0    1.609438\n",
      "6     7.0       0.485217       0.666667        4.2    1.945910\n",
      "7     8.0       0.797142       0.777778        5.4    2.079442\n",
      "8     9.0       1.109067       0.888889        6.6    2.197225\n",
      "9    10.0       1.420992       1.000000        7.8    2.302585\n"
     ]
    }
   ],
   "source": [
    "# 示例数据\n",
    "data = {'factor': np.array([1, 2, 3, 4, 5, np.nan, 7, 8, 9, 10])}\n",
    "\n",
    "# 数据清洗\n",
    "df = pd.DataFrame(data)\n",
    "df = df.dropna()  # 删除缺失值\n",
    "\n",
    "# 数据标准化\n",
    "df['factor_zscore'] = (df['factor'] - df['factor'].mean()) / df['factor'].std()  # Z-score标准化\n",
    "df['factor_minmax'] = (df['factor'] - df['factor'].min()) / (df['factor'].max() - df['factor'].min())  # MinMax标准化\n",
    "\n",
    "# 数据平滑\n",
    "df['factor_ma'] = df['factor'].rolling(window=5).mean()  # 5日移动平均\n",
    "\n",
    "# 数据变换\n",
    "df['factor_log'] = np.log(df['factor'])  # 对数变换\n",
    "\n",
    "# 打印结果\n",
    "print(df)"
   ],
   "metadata": {
    "collapsed": false
   }
  },
  {
   "cell_type": "code",
   "execution_count": 5,
   "outputs": [],
   "source": [
    "df['roll_3_mean'] = df['factor'].rolling(window = 3).mean()\n",
    "df['roll_3_std'] = df['factor'].rolling(window = 3).std()"
   ],
   "metadata": {
    "collapsed": false
   }
  },
  {
   "cell_type": "markdown",
   "source": [],
   "metadata": {
    "collapsed": false
   }
  },
  {
   "cell_type": "code",
   "execution_count": 7,
   "outputs": [
    {
     "name": "stdout",
     "output_type": "stream",
     "text": [
      "   factor  factor_zscore  factor_minmax  factor_ma  factor_log  roll_3_mean   \n",
      "0     1.0      -1.386334       0.000000        NaN    0.000000          NaN  \\\n",
      "1     2.0      -1.074409       0.111111        NaN    0.693147          NaN   \n",
      "2     3.0      -0.762484       0.222222        NaN    1.098612     2.000000   \n",
      "3     4.0      -0.450559       0.333333        NaN    1.386294     3.000000   \n",
      "4     5.0      -0.138633       0.444444        3.0    1.609438     4.000000   \n",
      "6     7.0       0.485217       0.666667        4.2    1.945910     5.333333   \n",
      "7     8.0       0.797142       0.777778        5.4    2.079442     6.666667   \n",
      "8     9.0       1.109067       0.888889        6.6    2.197225     8.000000   \n",
      "9    10.0       1.420992       1.000000        7.8    2.302585     9.000000   \n",
      "\n",
      "   roll_3_std  \n",
      "0         NaN  \n",
      "1         NaN  \n",
      "2    1.000000  \n",
      "3    1.000000  \n",
      "4    1.000000  \n",
      "6    1.527525  \n",
      "7    1.527525  \n",
      "8    1.000000  \n",
      "9    1.000000  \n"
     ]
    }
   ],
   "source": [
    "print(df)"
   ],
   "metadata": {
    "collapsed": false
   }
  },
  {
   "cell_type": "code",
   "execution_count": null,
   "outputs": [],
   "source": [],
   "metadata": {
    "collapsed": false
   }
  }
 ],
 "metadata": {
  "kernelspec": {
   "display_name": "Python 3",
   "language": "python",
   "name": "python3"
  },
  "language_info": {
   "codemirror_mode": {
    "name": "ipython",
    "version": 2
   },
   "file_extension": ".py",
   "mimetype": "text/x-python",
   "name": "python",
   "nbconvert_exporter": "python",
   "pygments_lexer": "ipython2",
   "version": "2.7.6"
  }
 },
 "nbformat": 4,
 "nbformat_minor": 0
}
