{
 "cells": [
  {
   "cell_type": "code",
   "execution_count": null,
   "metadata": {
    "collapsed": true
   },
   "outputs": [],
   "source": []
  },
  {
   "cell_type": "code",
   "execution_count": 1,
   "outputs": [],
   "source": [
    "import os\n",
    "import pandas as pd\n",
    "import numpy as np\n",
    "\n",
    "from pandas_ta.statistics import zscore\n",
    "from custom_indicators import pa, pullback, smi, sr\n",
    "\n",
    "\n",
    "windows_size = 50\n",
    "\n",
    "def load_data():\n",
    "    df = pd.read_csv(r\"D:\\rl\\alpha-rptr\\ohlc\\binance_futures\\BTCUSDT\\['15m']\\data.csv\", parse_dates=[\"time\"], index_col=\"time\")\n",
    "    df=df.tz_localize(None)\n",
    "    df = df.rename(columns={\"time\": \"date\"})\n",
    "    df.sort_index(inplace=True)\n",
    "    df.dropna(inplace=True)\n",
    "    df.drop_duplicates(inplace=True)\n",
    "\n",
    "    df[\"feature_return_close\"] = df[\"close\"].pct_change()\n",
    "    df[\"feature_diff_open\"] = df[\"open\"] / df[\"close\"]\n",
    "    df[\"feature_diff_high\"] = df[\"high\"] / df[\"close\"]\n",
    "    df[\"feature_diff_low\"] = df[\"low\"] / df[\"close\"]\n",
    "    df[\"feature_diff_volume\"] = df[\"volume\"] / df[\"volume\"].rolling(7 * 24).max()\n",
    "    df['feature_z_close'] = zscore(df['close'], length=windows_size )\n",
    "    df['feature_z_open'] = zscore(df['open'], length=windows_size )\n",
    "    df['feature_z_high'] = zscore(df['high'], length=windows_size )\n",
    "    df['feature_z_low'] = zscore(df['low'], length=windows_size )\n",
    "    df['feature_z_volume'] = zscore(df['volume'], length=windows_size )\n",
    "    df = pa.pinbar(df)\n",
    "    pullback.detect_pullback(df)\n",
    "    smi.smi_trend(df)\n",
    "    sr.support_resistance(df)\n",
    "\n",
    "    df.dropna(inplace=True)\n",
    "    return df\n"
   ],
   "metadata": {
    "collapsed": false
   }
  },
  {
   "cell_type": "code",
   "execution_count": 2,
   "outputs": [],
   "source": [
    "df = load_data()\n"
   ],
   "metadata": {
    "collapsed": false
   }
  },
  {
   "cell_type": "code",
   "execution_count": 3,
   "outputs": [
    {
     "data": {
      "text/plain": "                        open     high      low    close     volume   \ntime                                                                 \n2023-04-14 22:00:00  30461.1  30493.2  30386.6  30431.8   3080.534  \\\n2023-04-14 22:15:00  30431.8  30434.2  30392.0  30430.8    904.665   \n2023-04-14 22:30:00  30410.7  30423.6  30390.0  30407.2   1491.795   \n2023-04-14 22:45:00  30407.2  30438.0  30400.0  30410.8   1418.447   \n2023-04-14 23:00:00  30410.7  30437.1  30395.0  30416.2   1238.588   \n...                      ...      ...      ...      ...        ...   \n2023-05-24 07:00:00  26734.2  26734.2  26566.5  26699.9  10417.356   \n2023-05-24 07:15:00  26700.0  26749.5  26673.3  26747.9   6405.009   \n2023-05-24 07:30:00  26748.0  26748.0  26669.0  26699.5   3939.648   \n2023-05-24 07:45:00  26699.4  26706.8  26650.5  26689.9   3817.344   \n2023-05-24 08:00:00  26690.0  26691.1  26672.0  26674.9    693.857   \n\n                     feature_return_close  feature_diff_open   \ntime                                                           \n2023-04-14 22:00:00             -0.000959           1.000963  \\\n2023-04-14 22:15:00             -0.000033           1.000033   \n2023-04-14 22:30:00             -0.000776           1.000115   \n2023-04-14 22:45:00              0.000118           0.999882   \n2023-04-14 23:00:00              0.000178           0.999819   \n...                                   ...                ...   \n2023-05-24 07:00:00             -0.001283           1.001285   \n2023-05-24 07:15:00              0.001798           0.998209   \n2023-05-24 07:30:00             -0.001809           1.001817   \n2023-05-24 07:45:00             -0.000360           1.000356   \n2023-05-24 08:00:00             -0.000562           1.000566   \n\n                     feature_diff_high  feature_diff_low  feature_diff_volume   \ntime                                                                            \n2023-04-14 22:00:00           1.002018          0.998515             0.071887  \\\n2023-04-14 22:15:00           1.000112          0.998725             0.021111   \n2023-04-14 22:30:00           1.000539          0.999434             0.034812   \n2023-04-14 22:45:00           1.000894          0.999645             0.033101   \n2023-04-14 23:00:00           1.000687          0.999303             0.028903   \n...                                ...               ...                  ...   \n2023-05-24 07:00:00           1.001285          0.995004             0.264256   \n2023-05-24 07:15:00           1.000060          0.997211             0.162475   \n2023-05-24 07:30:00           1.001817          0.998858             0.099937   \n2023-05-24 07:45:00           1.000633          0.998524             0.096834   \n2023-05-24 08:00:00           1.000607          0.999891             0.017601   \n\n                     ...  feature_pinbar_ma30  feature_pinbar_ma15   \ntime                 ...                                             \n2023-04-14 22:00:00  ...             1.003698             1.002475  \\\n2023-04-14 22:15:00  ...             1.003840             1.002233   \n2023-04-14 22:30:00  ...             1.003257             1.001152   \n2023-04-14 22:45:00  ...             1.003378             1.000941   \n2023-04-14 23:00:00  ...             1.003348             1.000649   \n...                  ...                  ...                  ...   \n2023-05-24 07:00:00  ...             0.990186             0.997649   \n2023-05-24 07:15:00  ...             0.992536             0.999858   \n2023-05-24 07:30:00  ...             0.991365             0.998124   \n2023-05-24 07:45:00  ...             0.991629             0.997964   \n2023-05-24 08:00:00  ...             0.991727             0.997468   \n\n                     feature_pinbar_ma7  feature_pb_stdev_outlier   \ntime                                                                \n2023-04-14 22:00:00            0.999656                 -0.447545  \\\n2023-04-14 22:15:00            0.999543                 -0.015290   \n2023-04-14 22:30:00            0.999073                 -0.360865   \n2023-04-14 22:45:00            0.999280                  0.054928   \n2023-04-14 23:00:00            0.999546                  0.094314   \n...                                 ...                       ...   \n2023-05-24 07:00:00            0.998299                 -0.606057   \n2023-05-24 07:15:00            1.000423                  0.852705   \n2023-05-24 07:30:00            0.998908                 -0.852295   \n2023-05-24 07:45:00            0.998935                 -0.166977   \n2023-05-24 08:00:00            0.998652                 -0.261091   \n\n                     feature_pb_pct_change  feature_pb_pct_outlier   \ntime                                                                 \n2023-04-14 22:00:00              -0.000959               -0.369592  \\\n2023-04-14 22:15:00              -0.000033                0.064148   \n2023-04-14 22:30:00              -0.000776               -0.271737   \n2023-04-14 22:45:00               0.000118                0.063004   \n2023-04-14 23:00:00               0.000178               -0.020856   \n...                                    ...                     ...   \n2023-05-24 07:00:00              -0.001283               -0.313836   \n2023-05-24 07:15:00               0.001798                1.170799   \n2023-05-24 07:30:00              -0.001809               -0.580400   \n2023-05-24 07:45:00              -0.000360                0.129175   \n2023-05-24 08:00:00              -0.000562                0.047633   \n\n                     feature_pb_candle_body  feature_smi  feature_support   \ntime                                                                        \n2023-04-14 22:00:00               -0.274859     1.063414         1.016936  \\\n2023-04-14 22:15:00               -0.023697     0.970515         1.016902   \n2023-04-14 22:30:00               -0.104167     0.811587         1.016114   \n2023-04-14 22:45:00                0.094737     0.564233         1.016234   \n2023-04-14 23:00:00                0.130641     0.298362         1.016414   \n...                                     ...          ...              ...   \n2023-05-24 07:00:00               -0.204532     0.534989         1.005021   \n2023-05-24 07:15:00                0.628609    -0.231110         1.006828   \n2023-05-24 07:30:00               -0.613924    -0.624118         1.005006   \n2023-05-24 07:45:00               -0.168739    -0.753270         1.004645   \n2023-05-24 08:00:00               -0.790576    -1.044879         1.004080   \n\n                     feature_resistance  \ntime                                     \n2023-04-14 22:00:00            0.979806  \n2023-04-14 22:15:00            0.982837  \n2023-04-14 22:30:00            0.982075  \n2023-04-14 22:45:00            0.982975  \n2023-04-14 23:00:00            0.986258  \n...                                 ...  \n2023-05-24 07:00:00            0.977224  \n2023-05-24 07:15:00            0.979081  \n2023-05-24 07:30:00            0.978100  \n2023-05-24 07:45:00            0.978139  \n2023-05-24 08:00:00            0.978310  \n\n[3785 rows x 26 columns]",
      "text/html": "<div>\n<style scoped>\n    .dataframe tbody tr th:only-of-type {\n        vertical-align: middle;\n    }\n\n    .dataframe tbody tr th {\n        vertical-align: top;\n    }\n\n    .dataframe thead th {\n        text-align: right;\n    }\n</style>\n<table border=\"1\" class=\"dataframe\">\n  <thead>\n    <tr style=\"text-align: right;\">\n      <th></th>\n      <th>open</th>\n      <th>high</th>\n      <th>low</th>\n      <th>close</th>\n      <th>volume</th>\n      <th>feature_return_close</th>\n      <th>feature_diff_open</th>\n      <th>feature_diff_high</th>\n      <th>feature_diff_low</th>\n      <th>feature_diff_volume</th>\n      <th>...</th>\n      <th>feature_pinbar_ma30</th>\n      <th>feature_pinbar_ma15</th>\n      <th>feature_pinbar_ma7</th>\n      <th>feature_pb_stdev_outlier</th>\n      <th>feature_pb_pct_change</th>\n      <th>feature_pb_pct_outlier</th>\n      <th>feature_pb_candle_body</th>\n      <th>feature_smi</th>\n      <th>feature_support</th>\n      <th>feature_resistance</th>\n    </tr>\n    <tr>\n      <th>time</th>\n      <th></th>\n      <th></th>\n      <th></th>\n      <th></th>\n      <th></th>\n      <th></th>\n      <th></th>\n      <th></th>\n      <th></th>\n      <th></th>\n      <th></th>\n      <th></th>\n      <th></th>\n      <th></th>\n      <th></th>\n      <th></th>\n      <th></th>\n      <th></th>\n      <th></th>\n      <th></th>\n      <th></th>\n    </tr>\n  </thead>\n  <tbody>\n    <tr>\n      <th>2023-04-14 22:00:00</th>\n      <td>30461.1</td>\n      <td>30493.2</td>\n      <td>30386.6</td>\n      <td>30431.8</td>\n      <td>3080.534</td>\n      <td>-0.000959</td>\n      <td>1.000963</td>\n      <td>1.002018</td>\n      <td>0.998515</td>\n      <td>0.071887</td>\n      <td>...</td>\n      <td>1.003698</td>\n      <td>1.002475</td>\n      <td>0.999656</td>\n      <td>-0.447545</td>\n      <td>-0.000959</td>\n      <td>-0.369592</td>\n      <td>-0.274859</td>\n      <td>1.063414</td>\n      <td>1.016936</td>\n      <td>0.979806</td>\n    </tr>\n    <tr>\n      <th>2023-04-14 22:15:00</th>\n      <td>30431.8</td>\n      <td>30434.2</td>\n      <td>30392.0</td>\n      <td>30430.8</td>\n      <td>904.665</td>\n      <td>-0.000033</td>\n      <td>1.000033</td>\n      <td>1.000112</td>\n      <td>0.998725</td>\n      <td>0.021111</td>\n      <td>...</td>\n      <td>1.003840</td>\n      <td>1.002233</td>\n      <td>0.999543</td>\n      <td>-0.015290</td>\n      <td>-0.000033</td>\n      <td>0.064148</td>\n      <td>-0.023697</td>\n      <td>0.970515</td>\n      <td>1.016902</td>\n      <td>0.982837</td>\n    </tr>\n    <tr>\n      <th>2023-04-14 22:30:00</th>\n      <td>30410.7</td>\n      <td>30423.6</td>\n      <td>30390.0</td>\n      <td>30407.2</td>\n      <td>1491.795</td>\n      <td>-0.000776</td>\n      <td>1.000115</td>\n      <td>1.000539</td>\n      <td>0.999434</td>\n      <td>0.034812</td>\n      <td>...</td>\n      <td>1.003257</td>\n      <td>1.001152</td>\n      <td>0.999073</td>\n      <td>-0.360865</td>\n      <td>-0.000776</td>\n      <td>-0.271737</td>\n      <td>-0.104167</td>\n      <td>0.811587</td>\n      <td>1.016114</td>\n      <td>0.982075</td>\n    </tr>\n    <tr>\n      <th>2023-04-14 22:45:00</th>\n      <td>30407.2</td>\n      <td>30438.0</td>\n      <td>30400.0</td>\n      <td>30410.8</td>\n      <td>1418.447</td>\n      <td>0.000118</td>\n      <td>0.999882</td>\n      <td>1.000894</td>\n      <td>0.999645</td>\n      <td>0.033101</td>\n      <td>...</td>\n      <td>1.003378</td>\n      <td>1.000941</td>\n      <td>0.999280</td>\n      <td>0.054928</td>\n      <td>0.000118</td>\n      <td>0.063004</td>\n      <td>0.094737</td>\n      <td>0.564233</td>\n      <td>1.016234</td>\n      <td>0.982975</td>\n    </tr>\n    <tr>\n      <th>2023-04-14 23:00:00</th>\n      <td>30410.7</td>\n      <td>30437.1</td>\n      <td>30395.0</td>\n      <td>30416.2</td>\n      <td>1238.588</td>\n      <td>0.000178</td>\n      <td>0.999819</td>\n      <td>1.000687</td>\n      <td>0.999303</td>\n      <td>0.028903</td>\n      <td>...</td>\n      <td>1.003348</td>\n      <td>1.000649</td>\n      <td>0.999546</td>\n      <td>0.094314</td>\n      <td>0.000178</td>\n      <td>-0.020856</td>\n      <td>0.130641</td>\n      <td>0.298362</td>\n      <td>1.016414</td>\n      <td>0.986258</td>\n    </tr>\n    <tr>\n      <th>...</th>\n      <td>...</td>\n      <td>...</td>\n      <td>...</td>\n      <td>...</td>\n      <td>...</td>\n      <td>...</td>\n      <td>...</td>\n      <td>...</td>\n      <td>...</td>\n      <td>...</td>\n      <td>...</td>\n      <td>...</td>\n      <td>...</td>\n      <td>...</td>\n      <td>...</td>\n      <td>...</td>\n      <td>...</td>\n      <td>...</td>\n      <td>...</td>\n      <td>...</td>\n      <td>...</td>\n    </tr>\n    <tr>\n      <th>2023-05-24 07:00:00</th>\n      <td>26734.2</td>\n      <td>26734.2</td>\n      <td>26566.5</td>\n      <td>26699.9</td>\n      <td>10417.356</td>\n      <td>-0.001283</td>\n      <td>1.001285</td>\n      <td>1.001285</td>\n      <td>0.995004</td>\n      <td>0.264256</td>\n      <td>...</td>\n      <td>0.990186</td>\n      <td>0.997649</td>\n      <td>0.998299</td>\n      <td>-0.606057</td>\n      <td>-0.001283</td>\n      <td>-0.313836</td>\n      <td>-0.204532</td>\n      <td>0.534989</td>\n      <td>1.005021</td>\n      <td>0.977224</td>\n    </tr>\n    <tr>\n      <th>2023-05-24 07:15:00</th>\n      <td>26700.0</td>\n      <td>26749.5</td>\n      <td>26673.3</td>\n      <td>26747.9</td>\n      <td>6405.009</td>\n      <td>0.001798</td>\n      <td>0.998209</td>\n      <td>1.000060</td>\n      <td>0.997211</td>\n      <td>0.162475</td>\n      <td>...</td>\n      <td>0.992536</td>\n      <td>0.999858</td>\n      <td>1.000423</td>\n      <td>0.852705</td>\n      <td>0.001798</td>\n      <td>1.170799</td>\n      <td>0.628609</td>\n      <td>-0.231110</td>\n      <td>1.006828</td>\n      <td>0.979081</td>\n    </tr>\n    <tr>\n      <th>2023-05-24 07:30:00</th>\n      <td>26748.0</td>\n      <td>26748.0</td>\n      <td>26669.0</td>\n      <td>26699.5</td>\n      <td>3939.648</td>\n      <td>-0.001809</td>\n      <td>1.001817</td>\n      <td>1.001817</td>\n      <td>0.998858</td>\n      <td>0.099937</td>\n      <td>...</td>\n      <td>0.991365</td>\n      <td>0.998124</td>\n      <td>0.998908</td>\n      <td>-0.852295</td>\n      <td>-0.001809</td>\n      <td>-0.580400</td>\n      <td>-0.613924</td>\n      <td>-0.624118</td>\n      <td>1.005006</td>\n      <td>0.978100</td>\n    </tr>\n    <tr>\n      <th>2023-05-24 07:45:00</th>\n      <td>26699.4</td>\n      <td>26706.8</td>\n      <td>26650.5</td>\n      <td>26689.9</td>\n      <td>3817.344</td>\n      <td>-0.000360</td>\n      <td>1.000356</td>\n      <td>1.000633</td>\n      <td>0.998524</td>\n      <td>0.096834</td>\n      <td>...</td>\n      <td>0.991629</td>\n      <td>0.997964</td>\n      <td>0.998935</td>\n      <td>-0.166977</td>\n      <td>-0.000360</td>\n      <td>0.129175</td>\n      <td>-0.168739</td>\n      <td>-0.753270</td>\n      <td>1.004645</td>\n      <td>0.978139</td>\n    </tr>\n    <tr>\n      <th>2023-05-24 08:00:00</th>\n      <td>26690.0</td>\n      <td>26691.1</td>\n      <td>26672.0</td>\n      <td>26674.9</td>\n      <td>693.857</td>\n      <td>-0.000562</td>\n      <td>1.000566</td>\n      <td>1.000607</td>\n      <td>0.999891</td>\n      <td>0.017601</td>\n      <td>...</td>\n      <td>0.991727</td>\n      <td>0.997468</td>\n      <td>0.998652</td>\n      <td>-0.261091</td>\n      <td>-0.000562</td>\n      <td>0.047633</td>\n      <td>-0.790576</td>\n      <td>-1.044879</td>\n      <td>1.004080</td>\n      <td>0.978310</td>\n    </tr>\n  </tbody>\n</table>\n<p>3785 rows × 26 columns</p>\n</div>"
     },
     "execution_count": 3,
     "metadata": {},
     "output_type": "execute_result"
    }
   ],
   "source": [
    "df"
   ],
   "metadata": {
    "collapsed": false
   }
  },
  {
   "cell_type": "code",
   "execution_count": null,
   "outputs": [],
   "source": [],
   "metadata": {
    "collapsed": false
   }
  }
 ],
 "metadata": {
  "kernelspec": {
   "display_name": "Python 3",
   "language": "python",
   "name": "python3"
  },
  "language_info": {
   "codemirror_mode": {
    "name": "ipython",
    "version": 2
   },
   "file_extension": ".py",
   "mimetype": "text/x-python",
   "name": "python",
   "nbconvert_exporter": "python",
   "pygments_lexer": "ipython2",
   "version": "2.7.6"
  }
 },
 "nbformat": 4,
 "nbformat_minor": 0
}
